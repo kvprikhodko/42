{
  "nbformat": 4,
  "nbformat_minor": 0,
  "metadata": {
    "_change_revision": 36,
    "_is_fork": false,
    "colab": {
      "name": "Employee_Resignation.ipynb",
      "provenance": [],
      "collapsed_sections": [],
      "toc_visible": true
    },
    "kernelspec": {
      "display_name": "Python 3",
      "language": "python",
      "name": "python3"
    },
    "language_info": {
      "codemirror_mode": {
        "name": "ipython",
        "version": 3
      },
      "file_extension": ".py",
      "mimetype": "text/x-python",
      "name": "python",
      "nbconvert_exporter": "python",
      "pygments_lexer": "ipython3",
      "version": "3.8.5"
    }
  },
  "cells": [
    {
      "cell_type": "markdown",
      "metadata": {
        "id": "IcYg0g9GEzV8"
      },
      "source": [
        "# Предсказание оттока сотрудников"
      ]
    },
    {
      "cell_type": "markdown",
      "metadata": {
        "id": "kZj1cao15-4z"
      },
      "source": [
        "Соревнование Kaggle: \n",
        "https://www.kaggle.com/t/e703142015c049318340d699fe881c36\n",
        "\n",
        "Описание файлов\n",
        "- train_data.csv - набор данных для обучения\n",
        "- test_data.csv - набор данных для теста\n",
        "\n",
        "Описание полей\n",
        "- Age - возраст\n",
        "- BusinessTravel - частота командировок\n",
        "- Department - отдел\n",
        "- DistanceFromHome - расстояние от дома в км\n",
        "- Education - уровень образования\n",
        "- EducationField - сфера образования\n",
        "- Gender - пол\n",
        "- JobRole - должностная роль\n",
        "- MaritalStatus - семейное положение\n",
        "- MonthlyIncome - ежемесячный доход\n",
        "- NumCompaniesWorked - кол-во компаний, в которых работал сотрудник\n",
        "- PercentSalaryHike - процент повышения з/п за время работы\n",
        "- StandardHours - стандартная продолжительность рабочего дня\n",
        "- StockOptionLevel - уровень опциона на акции\n",
        "- TotalWorkingYears - общий трудовой стаж\n",
        "- TrainingTimesLastYear - общее время дополнительного обучения\n",
        "- YearsAtCompany - стаж работы в данной компании\n",
        "- YearsSinceLastPromotion - кол-во лет с последнего повышения\n",
        "- YearsWithCurrManager - кол-во лет работы с текущим менеджером\n",
        "- *Attrition - ушел работник или нет, целевая переменная*"
      ]
    },
    {
      "cell_type": "markdown",
      "metadata": {
        "id": "nbtDBvUls8O-"
      },
      "source": [
        "## Загружаем и чистим данные"
      ]
    },
    {
      "cell_type": "code",
      "metadata": {
        "_cell_guid": "cfdaacbc-23a3-423d-8d4d-120939ac7383",
        "id": "CVdNUTBiEzWA"
      },
      "source": [
        "import pandas as pd\n",
        "%matplotlib inline\n",
        "import matplotlib.pyplot as plt\n",
        "from sklearn.metrics import accuracy_score, confusion_matrix, roc_auc_score\n",
        "from sklearn import linear_model, ensemble\n",
        "import xgboost as xgb\n",
        "from sklearn.model_selection import KFold, cross_val_score, GridSearchCV"
      ],
      "execution_count": 1,
      "outputs": []
    },
    {
      "cell_type": "code",
      "metadata": {
        "id": "VjdT0K4R7_lT"
      },
      "source": [
        "%%capture\n",
        "!wget https://www.dropbox.com/s/z72mi1fh0cmadcv/train_data.csv\n",
        "!wget https://www.dropbox.com/s/7mzi72914hpo74t/test_data.csv"
      ],
      "execution_count": 2,
      "outputs": []
    },
    {
      "cell_type": "code",
      "metadata": {
        "_cell_guid": "3ab4c525-a5cb-4183-9468-c1dd005c4c78",
        "id": "04QX5xNgEzWO"
      },
      "source": [
        "train_data = pd.read_csv('train_data.csv')\n",
        "test_data = pd.read_csv('test_data.csv')"
      ],
      "execution_count": 3,
      "outputs": []
    },
    {
      "cell_type": "code",
      "metadata": {
        "id": "cGFCOTTnYc4_"
      },
      "source": [
        "# убираем задвоенный индекс\n",
        "train_data.drop(['Unnamed: 0'], axis=1, inplace=True)\n",
        "test_data.drop(['Unnamed: 0'], axis=1, inplace=True)"
      ],
      "execution_count": 4,
      "outputs": []
    },
    {
      "cell_type": "code",
      "metadata": {
        "colab": {
          "base_uri": "https://localhost:8080/"
        },
        "id": "k0VOQoV9s1SO",
        "scrolled": true,
        "outputId": "170eb8a1-2405-45b1-c8aa-363b53c8d154"
      },
      "source": [
        "#видим, что столбцы с числами в формате числа, это хорошо; объекты типа object закодируем далее\n",
        "train_data.info() "
      ],
      "execution_count": 5,
      "outputs": [
        {
          "output_type": "stream",
          "text": [
            "<class 'pandas.core.frame.DataFrame'>\n",
            "RangeIndex: 2205 entries, 0 to 2204\n",
            "Data columns (total 20 columns):\n",
            " #   Column                   Non-Null Count  Dtype  \n",
            "---  ------                   --------------  -----  \n",
            " 0   Age                      2205 non-null   int64  \n",
            " 1   BusinessTravel           2205 non-null   object \n",
            " 2   Department               2205 non-null   object \n",
            " 3   DistanceFromHome         2205 non-null   int64  \n",
            " 4   Education                2205 non-null   int64  \n",
            " 5   EducationField           2205 non-null   object \n",
            " 6   Gender                   2205 non-null   object \n",
            " 7   JobRole                  2205 non-null   object \n",
            " 8   MaritalStatus            2205 non-null   object \n",
            " 9   MonthlyIncome            2205 non-null   int64  \n",
            " 10  NumCompaniesWorked       2194 non-null   float64\n",
            " 11  PercentSalaryHike        2205 non-null   int64  \n",
            " 12  StandardHours            2205 non-null   int64  \n",
            " 13  StockOptionLevel         2205 non-null   int64  \n",
            " 14  TotalWorkingYears        2199 non-null   float64\n",
            " 15  TrainingTimesLastYear    2205 non-null   int64  \n",
            " 16  YearsAtCompany           2205 non-null   int64  \n",
            " 17  YearsSinceLastPromotion  2205 non-null   int64  \n",
            " 18  YearsWithCurrManager     2205 non-null   int64  \n",
            " 19  Attrition                2205 non-null   int64  \n",
            "dtypes: float64(2), int64(12), object(6)\n",
            "memory usage: 344.7+ KB\n"
          ],
          "name": "stdout"
        }
      ]
    },
    {
      "cell_type": "code",
      "metadata": {
        "colab": {
          "base_uri": "https://localhost:8080/",
          "height": 483
        },
        "id": "TfBJaZRtEzWU",
        "outputId": "b0a1a94e-3df4-4e29-ffcd-7afca39d5aca"
      },
      "source": [
        "#посмотрим статистику, транспонируем для удобства\n",
        "train_data.describe().T "
      ],
      "execution_count": 6,
      "outputs": [
        {
          "output_type": "execute_result",
          "data": {
            "text/html": [
              "<div>\n",
              "<style scoped>\n",
              "    .dataframe tbody tr th:only-of-type {\n",
              "        vertical-align: middle;\n",
              "    }\n",
              "\n",
              "    .dataframe tbody tr th {\n",
              "        vertical-align: top;\n",
              "    }\n",
              "\n",
              "    .dataframe thead th {\n",
              "        text-align: right;\n",
              "    }\n",
              "</style>\n",
              "<table border=\"1\" class=\"dataframe\">\n",
              "  <thead>\n",
              "    <tr style=\"text-align: right;\">\n",
              "      <th></th>\n",
              "      <th>count</th>\n",
              "      <th>mean</th>\n",
              "      <th>std</th>\n",
              "      <th>min</th>\n",
              "      <th>25%</th>\n",
              "      <th>50%</th>\n",
              "      <th>75%</th>\n",
              "      <th>max</th>\n",
              "    </tr>\n",
              "  </thead>\n",
              "  <tbody>\n",
              "    <tr>\n",
              "      <th>Age</th>\n",
              "      <td>2205.0</td>\n",
              "      <td>36.669841</td>\n",
              "      <td>9.078445</td>\n",
              "      <td>18.0</td>\n",
              "      <td>30.0</td>\n",
              "      <td>35.0</td>\n",
              "      <td>42.0</td>\n",
              "      <td>60.0</td>\n",
              "    </tr>\n",
              "    <tr>\n",
              "      <th>DistanceFromHome</th>\n",
              "      <td>2205.0</td>\n",
              "      <td>9.409524</td>\n",
              "      <td>8.134342</td>\n",
              "      <td>1.0</td>\n",
              "      <td>2.0</td>\n",
              "      <td>7.0</td>\n",
              "      <td>15.0</td>\n",
              "      <td>29.0</td>\n",
              "    </tr>\n",
              "    <tr>\n",
              "      <th>Education</th>\n",
              "      <td>2205.0</td>\n",
              "      <td>2.895692</td>\n",
              "      <td>1.046125</td>\n",
              "      <td>1.0</td>\n",
              "      <td>2.0</td>\n",
              "      <td>3.0</td>\n",
              "      <td>4.0</td>\n",
              "      <td>5.0</td>\n",
              "    </tr>\n",
              "    <tr>\n",
              "      <th>MonthlyIncome</th>\n",
              "      <td>2205.0</td>\n",
              "      <td>65151.972789</td>\n",
              "      <td>47711.864224</td>\n",
              "      <td>10510.0</td>\n",
              "      <td>28750.0</td>\n",
              "      <td>48770.0</td>\n",
              "      <td>83460.0</td>\n",
              "      <td>199990.0</td>\n",
              "    </tr>\n",
              "    <tr>\n",
              "      <th>NumCompaniesWorked</th>\n",
              "      <td>2194.0</td>\n",
              "      <td>2.648587</td>\n",
              "      <td>2.490846</td>\n",
              "      <td>0.0</td>\n",
              "      <td>1.0</td>\n",
              "      <td>2.0</td>\n",
              "      <td>4.0</td>\n",
              "      <td>9.0</td>\n",
              "    </tr>\n",
              "    <tr>\n",
              "      <th>PercentSalaryHike</th>\n",
              "      <td>2205.0</td>\n",
              "      <td>15.209524</td>\n",
              "      <td>3.638322</td>\n",
              "      <td>11.0</td>\n",
              "      <td>12.0</td>\n",
              "      <td>14.0</td>\n",
              "      <td>18.0</td>\n",
              "      <td>25.0</td>\n",
              "    </tr>\n",
              "    <tr>\n",
              "      <th>StandardHours</th>\n",
              "      <td>2205.0</td>\n",
              "      <td>8.000000</td>\n",
              "      <td>0.000000</td>\n",
              "      <td>8.0</td>\n",
              "      <td>8.0</td>\n",
              "      <td>8.0</td>\n",
              "      <td>8.0</td>\n",
              "      <td>8.0</td>\n",
              "    </tr>\n",
              "    <tr>\n",
              "      <th>StockOptionLevel</th>\n",
              "      <td>2205.0</td>\n",
              "      <td>0.822222</td>\n",
              "      <td>0.874708</td>\n",
              "      <td>0.0</td>\n",
              "      <td>0.0</td>\n",
              "      <td>1.0</td>\n",
              "      <td>1.0</td>\n",
              "      <td>3.0</td>\n",
              "    </tr>\n",
              "    <tr>\n",
              "      <th>TotalWorkingYears</th>\n",
              "      <td>2199.0</td>\n",
              "      <td>11.224193</td>\n",
              "      <td>7.896927</td>\n",
              "      <td>0.0</td>\n",
              "      <td>6.0</td>\n",
              "      <td>10.0</td>\n",
              "      <td>15.0</td>\n",
              "      <td>40.0</td>\n",
              "    </tr>\n",
              "    <tr>\n",
              "      <th>TrainingTimesLastYear</th>\n",
              "      <td>2205.0</td>\n",
              "      <td>2.798186</td>\n",
              "      <td>1.313616</td>\n",
              "      <td>0.0</td>\n",
              "      <td>2.0</td>\n",
              "      <td>3.0</td>\n",
              "      <td>3.0</td>\n",
              "      <td>6.0</td>\n",
              "    </tr>\n",
              "    <tr>\n",
              "      <th>YearsAtCompany</th>\n",
              "      <td>2205.0</td>\n",
              "      <td>7.078005</td>\n",
              "      <td>6.258446</td>\n",
              "      <td>0.0</td>\n",
              "      <td>3.0</td>\n",
              "      <td>5.0</td>\n",
              "      <td>10.0</td>\n",
              "      <td>40.0</td>\n",
              "    </tr>\n",
              "    <tr>\n",
              "      <th>YearsSinceLastPromotion</th>\n",
              "      <td>2205.0</td>\n",
              "      <td>2.225397</td>\n",
              "      <td>3.312585</td>\n",
              "      <td>0.0</td>\n",
              "      <td>0.0</td>\n",
              "      <td>1.0</td>\n",
              "      <td>3.0</td>\n",
              "      <td>15.0</td>\n",
              "    </tr>\n",
              "    <tr>\n",
              "      <th>YearsWithCurrManager</th>\n",
              "      <td>2205.0</td>\n",
              "      <td>4.156463</td>\n",
              "      <td>3.606622</td>\n",
              "      <td>0.0</td>\n",
              "      <td>2.0</td>\n",
              "      <td>3.0</td>\n",
              "      <td>7.0</td>\n",
              "      <td>17.0</td>\n",
              "    </tr>\n",
              "    <tr>\n",
              "      <th>Attrition</th>\n",
              "      <td>2205.0</td>\n",
              "      <td>0.161451</td>\n",
              "      <td>0.368030</td>\n",
              "      <td>0.0</td>\n",
              "      <td>0.0</td>\n",
              "      <td>0.0</td>\n",
              "      <td>0.0</td>\n",
              "      <td>1.0</td>\n",
              "    </tr>\n",
              "  </tbody>\n",
              "</table>\n",
              "</div>"
            ],
            "text/plain": [
              "                          count          mean  ...      75%       max\n",
              "Age                      2205.0     36.669841  ...     42.0      60.0\n",
              "DistanceFromHome         2205.0      9.409524  ...     15.0      29.0\n",
              "Education                2205.0      2.895692  ...      4.0       5.0\n",
              "MonthlyIncome            2205.0  65151.972789  ...  83460.0  199990.0\n",
              "NumCompaniesWorked       2194.0      2.648587  ...      4.0       9.0\n",
              "PercentSalaryHike        2205.0     15.209524  ...     18.0      25.0\n",
              "StandardHours            2205.0      8.000000  ...      8.0       8.0\n",
              "StockOptionLevel         2205.0      0.822222  ...      1.0       3.0\n",
              "TotalWorkingYears        2199.0     11.224193  ...     15.0      40.0\n",
              "TrainingTimesLastYear    2205.0      2.798186  ...      3.0       6.0\n",
              "YearsAtCompany           2205.0      7.078005  ...     10.0      40.0\n",
              "YearsSinceLastPromotion  2205.0      2.225397  ...      3.0      15.0\n",
              "YearsWithCurrManager     2205.0      4.156463  ...      7.0      17.0\n",
              "Attrition                2205.0      0.161451  ...      0.0       1.0\n",
              "\n",
              "[14 rows x 8 columns]"
            ]
          },
          "metadata": {
            "tags": []
          },
          "execution_count": 6
        }
      ]
    },
    {
      "cell_type": "code",
      "metadata": {
        "colab": {
          "base_uri": "https://localhost:8080/",
          "height": 716
        },
        "id": "kBKgGOT57fGC",
        "outputId": "60634d9b-22e2-4bd2-a62a-52295f944902"
      },
      "source": [
        "# посмотрим возможные выбросы\n",
        "train_data.hist(figsize=(18, 12));"
      ],
      "execution_count": 7,
      "outputs": [
        {
          "output_type": "display_data",
          "data": {
            "image/png": "[encoded data removed]",
            "text/plain": [
              "<Figure size 1296x864 with 16 Axes>"
            ]
          },
          "metadata": {
            "tags": [],
            "needs_background": "light"
          }
        }
      ]
    },
    {
      "cell_type": "code",
      "metadata": {
        "colab": {
          "base_uri": "https://localhost:8080/",
          "height": 483
        },
        "id": "bylhMYJGGg59",
        "outputId": "6bdbf5da-2545-4179-e4ac-72a8c5c779cd"
      },
      "source": [
        "# уберем близких к пенсии и уровень образорвания \"5\"\n",
        "train_data = train_data[\n",
        "    (train_data['Education'] <= 4) &\n",
        "    (train_data['TotalWorkingYears'] < 24) \n",
        "]\n",
        "train_data.describe().T "
      ],
      "execution_count": 8,
      "outputs": [
        {
          "output_type": "execute_result",
          "data": {
            "text/html": [
              "<div>\n",
              "<style scoped>\n",
              "    .dataframe tbody tr th:only-of-type {\n",
              "        vertical-align: middle;\n",
              "    }\n",
              "\n",
              "    .dataframe tbody tr th {\n",
              "        vertical-align: top;\n",
              "    }\n",
              "\n",
              "    .dataframe thead th {\n",
              "        text-align: right;\n",
              "    }\n",
              "</style>\n",
              "<table border=\"1\" class=\"dataframe\">\n",
              "  <thead>\n",
              "    <tr style=\"text-align: right;\">\n",
              "      <th></th>\n",
              "      <th>count</th>\n",
              "      <th>mean</th>\n",
              "      <th>std</th>\n",
              "      <th>min</th>\n",
              "      <th>25%</th>\n",
              "      <th>50%</th>\n",
              "      <th>75%</th>\n",
              "      <th>max</th>\n",
              "    </tr>\n",
              "  </thead>\n",
              "  <tbody>\n",
              "    <tr>\n",
              "      <th>Age</th>\n",
              "      <td>1939.0</td>\n",
              "      <td>35.385250</td>\n",
              "      <td>8.274048</td>\n",
              "      <td>18.0</td>\n",
              "      <td>30.0</td>\n",
              "      <td>35.0</td>\n",
              "      <td>40.0</td>\n",
              "      <td>60.0</td>\n",
              "    </tr>\n",
              "    <tr>\n",
              "      <th>DistanceFromHome</th>\n",
              "      <td>1939.0</td>\n",
              "      <td>9.384219</td>\n",
              "      <td>8.131046</td>\n",
              "      <td>1.0</td>\n",
              "      <td>2.0</td>\n",
              "      <td>7.0</td>\n",
              "      <td>15.0</td>\n",
              "      <td>29.0</td>\n",
              "    </tr>\n",
              "    <tr>\n",
              "      <th>Education</th>\n",
              "      <td>1939.0</td>\n",
              "      <td>2.826199</td>\n",
              "      <td>0.978729</td>\n",
              "      <td>1.0</td>\n",
              "      <td>2.0</td>\n",
              "      <td>3.0</td>\n",
              "      <td>4.0</td>\n",
              "      <td>4.0</td>\n",
              "    </tr>\n",
              "    <tr>\n",
              "      <th>MonthlyIncome</th>\n",
              "      <td>1939.0</td>\n",
              "      <td>65872.919030</td>\n",
              "      <td>48222.261147</td>\n",
              "      <td>10510.0</td>\n",
              "      <td>29065.0</td>\n",
              "      <td>49630.0</td>\n",
              "      <td>84685.0</td>\n",
              "      <td>199990.0</td>\n",
              "    </tr>\n",
              "    <tr>\n",
              "      <th>NumCompaniesWorked</th>\n",
              "      <td>1930.0</td>\n",
              "      <td>2.553368</td>\n",
              "      <td>2.491770</td>\n",
              "      <td>0.0</td>\n",
              "      <td>1.0</td>\n",
              "      <td>1.0</td>\n",
              "      <td>4.0</td>\n",
              "      <td>9.0</td>\n",
              "    </tr>\n",
              "    <tr>\n",
              "      <th>PercentSalaryHike</th>\n",
              "      <td>1939.0</td>\n",
              "      <td>15.214028</td>\n",
              "      <td>3.650931</td>\n",
              "      <td>11.0</td>\n",
              "      <td>12.0</td>\n",
              "      <td>14.0</td>\n",
              "      <td>18.0</td>\n",
              "      <td>25.0</td>\n",
              "    </tr>\n",
              "    <tr>\n",
              "      <th>StandardHours</th>\n",
              "      <td>1939.0</td>\n",
              "      <td>8.000000</td>\n",
              "      <td>0.000000</td>\n",
              "      <td>8.0</td>\n",
              "      <td>8.0</td>\n",
              "      <td>8.0</td>\n",
              "      <td>8.0</td>\n",
              "      <td>8.0</td>\n",
              "    </tr>\n",
              "    <tr>\n",
              "      <th>StockOptionLevel</th>\n",
              "      <td>1939.0</td>\n",
              "      <td>0.813822</td>\n",
              "      <td>0.869679</td>\n",
              "      <td>0.0</td>\n",
              "      <td>0.0</td>\n",
              "      <td>1.0</td>\n",
              "      <td>1.0</td>\n",
              "      <td>3.0</td>\n",
              "    </tr>\n",
              "    <tr>\n",
              "      <th>TotalWorkingYears</th>\n",
              "      <td>1939.0</td>\n",
              "      <td>9.482207</td>\n",
              "      <td>5.630346</td>\n",
              "      <td>0.0</td>\n",
              "      <td>6.0</td>\n",
              "      <td>9.0</td>\n",
              "      <td>12.0</td>\n",
              "      <td>23.0</td>\n",
              "    </tr>\n",
              "    <tr>\n",
              "      <th>TrainingTimesLastYear</th>\n",
              "      <td>1939.0</td>\n",
              "      <td>2.818979</td>\n",
              "      <td>1.313473</td>\n",
              "      <td>0.0</td>\n",
              "      <td>2.0</td>\n",
              "      <td>3.0</td>\n",
              "      <td>3.0</td>\n",
              "      <td>6.0</td>\n",
              "    </tr>\n",
              "    <tr>\n",
              "      <th>YearsAtCompany</th>\n",
              "      <td>1939.0</td>\n",
              "      <td>6.287261</td>\n",
              "      <td>4.890704</td>\n",
              "      <td>0.0</td>\n",
              "      <td>3.0</td>\n",
              "      <td>5.0</td>\n",
              "      <td>9.0</td>\n",
              "      <td>22.0</td>\n",
              "    </tr>\n",
              "    <tr>\n",
              "      <th>YearsSinceLastPromotion</th>\n",
              "      <td>1939.0</td>\n",
              "      <td>1.927282</td>\n",
              "      <td>2.893246</td>\n",
              "      <td>0.0</td>\n",
              "      <td>0.0</td>\n",
              "      <td>1.0</td>\n",
              "      <td>2.0</td>\n",
              "      <td>15.0</td>\n",
              "    </tr>\n",
              "    <tr>\n",
              "      <th>YearsWithCurrManager</th>\n",
              "      <td>1939.0</td>\n",
              "      <td>3.914389</td>\n",
              "      <td>3.413367</td>\n",
              "      <td>0.0</td>\n",
              "      <td>2.0</td>\n",
              "      <td>3.0</td>\n",
              "      <td>7.0</td>\n",
              "      <td>17.0</td>\n",
              "    </tr>\n",
              "    <tr>\n",
              "      <th>Attrition</th>\n",
              "      <td>1939.0</td>\n",
              "      <td>0.172254</td>\n",
              "      <td>0.377698</td>\n",
              "      <td>0.0</td>\n",
              "      <td>0.0</td>\n",
              "      <td>0.0</td>\n",
              "      <td>0.0</td>\n",
              "      <td>1.0</td>\n",
              "    </tr>\n",
              "  </tbody>\n",
              "</table>\n",
              "</div>"
            ],
            "text/plain": [
              "                          count          mean  ...      75%       max\n",
              "Age                      1939.0     35.385250  ...     40.0      60.0\n",
              "DistanceFromHome         1939.0      9.384219  ...     15.0      29.0\n",
              "Education                1939.0      2.826199  ...      4.0       4.0\n",
              "MonthlyIncome            1939.0  65872.919030  ...  84685.0  199990.0\n",
              "NumCompaniesWorked       1930.0      2.553368  ...      4.0       9.0\n",
              "PercentSalaryHike        1939.0     15.214028  ...     18.0      25.0\n",
              "StandardHours            1939.0      8.000000  ...      8.0       8.0\n",
              "StockOptionLevel         1939.0      0.813822  ...      1.0       3.0\n",
              "TotalWorkingYears        1939.0      9.482207  ...     12.0      23.0\n",
              "TrainingTimesLastYear    1939.0      2.818979  ...      3.0       6.0\n",
              "YearsAtCompany           1939.0      6.287261  ...      9.0      22.0\n",
              "YearsSinceLastPromotion  1939.0      1.927282  ...      2.0      15.0\n",
              "YearsWithCurrManager     1939.0      3.914389  ...      7.0      17.0\n",
              "Attrition                1939.0      0.172254  ...      0.0       1.0\n",
              "\n",
              "[14 rows x 8 columns]"
            ]
          },
          "metadata": {
            "tags": []
          },
          "execution_count": 8
        }
      ]
    },
    {
      "cell_type": "code",
      "metadata": {
        "colab": {
          "base_uri": "https://localhost:8080/"
        },
        "id": "R1WpZet4Kee8",
        "outputId": "5128d5bc-0bd6-43e6-f571-858f3e213466"
      },
      "source": [
        "#посчитаем медиану и заполним ими пустые значения в таблице\n",
        "train_median = train_data.median() \n",
        "train_data.fillna(train_median, inplace=True)\n",
        "\n",
        "test_median = test_data.median()\n",
        "test_data.fillna(test_median, inplace=True)\n",
        "\n",
        "train_median"
      ],
      "execution_count": 9,
      "outputs": [
        {
          "output_type": "execute_result",
          "data": {
            "text/plain": [
              "Age                           35.0\n",
              "DistanceFromHome               7.0\n",
              "Education                      3.0\n",
              "MonthlyIncome              49630.0\n",
              "NumCompaniesWorked             1.0\n",
              "PercentSalaryHike             14.0\n",
              "StandardHours                  8.0\n",
              "StockOptionLevel               1.0\n",
              "TotalWorkingYears              9.0\n",
              "TrainingTimesLastYear          3.0\n",
              "YearsAtCompany                 5.0\n",
              "YearsSinceLastPromotion        1.0\n",
              "YearsWithCurrManager           3.0\n",
              "Attrition                      0.0\n",
              "dtype: float64"
            ]
          },
          "metadata": {
            "tags": []
          },
          "execution_count": 9
        }
      ]
    },
    {
      "cell_type": "code",
      "metadata": {
        "colab": {
          "base_uri": "https://localhost:8080/"
        },
        "id": "CxuYUAfOEzW0",
        "outputId": "06321c01-1b2a-45b7-b1b5-2216be8337f7"
      },
      "source": [
        "#выделяем целевую переменну, обзначающую ушел работник или нет и отделим ее от входных данных\n",
        "target_variable_name = 'Attrition' \n",
        "train_values = train_data[target_variable_name]\n",
        "train_points = train_data.drop(target_variable_name, axis=1)\n",
        "\n",
        "# задача не сбалансирована, уволиышихся сотрудников меньше\n",
        "train_values.value_counts()"
      ],
      "execution_count": 10,
      "outputs": [
        {
          "output_type": "execute_result",
          "data": {
            "text/plain": [
              "0    1605\n",
              "1     334\n",
              "Name: Attrition, dtype: int64"
            ]
          },
          "metadata": {
            "tags": []
          },
          "execution_count": 10
        }
      ]
    },
    {
      "cell_type": "code",
      "metadata": {
        "colab": {
          "base_uri": "https://localhost:8080/"
        },
        "id": "Cnc8wT2bdKHd",
        "outputId": "e5f4ddf6-0e74-4c06-d84d-b35ffed83384"
      },
      "source": [
        "# проверим размерность стобцов\n",
        "train_points.shape, train_values.shape"
      ],
      "execution_count": 11,
      "outputs": [
        {
          "output_type": "execute_result",
          "data": {
            "text/plain": [
              "((1939, 19), (1939,))"
            ]
          },
          "metadata": {
            "tags": []
          },
          "execution_count": 11
        }
      ]
    },
    {
      "cell_type": "code",
      "metadata": {
        "id": "ejZQqG0UEzXH"
      },
      "source": [
        "# записываем столбец id в отдельную переменную, он нам понадобится в конце для итоговых результатов\n",
        "idx = test_data['index'] \n",
        "test_points = test_data.drop('index', axis=1) # удаляем его из тестовой выборки"
      ],
      "execution_count": 12,
      "outputs": []
    },
    {
      "cell_type": "markdown",
      "metadata": {
        "id": "hajJMzK6EzXR"
      },
      "source": [
        "## Обработываем текстовые переменные"
      ]
    },
    {
      "cell_type": "code",
      "metadata": {
        "id": "Exu_j2WyNHXA"
      },
      "source": [
        "# выбираем кодировщик OneHotEncoder\n",
        "train_points_new = pd.get_dummies(train_points)\n",
        "test_points_new = pd.get_dummies(test_points)"
      ],
      "execution_count": 13,
      "outputs": []
    },
    {
      "cell_type": "code",
      "metadata": {
        "colab": {
          "base_uri": "https://localhost:8080/",
          "height": 241
        },
        "id": "0DvWcD3IZ7bf",
        "outputId": "385ee546-3418-4947-9910-82c732d8f28a"
      },
      "source": [
        "# проверим, какая красота получилась\n",
        "train_points_new.head(5)"
      ],
      "execution_count": 14,
      "outputs": [
        {
          "output_type": "execute_result",
          "data": {
            "text/html": [
              "<div>\n",
              "<style scoped>\n",
              "    .dataframe tbody tr th:only-of-type {\n",
              "        vertical-align: middle;\n",
              "    }\n",
              "\n",
              "    .dataframe tbody tr th {\n",
              "        vertical-align: top;\n",
              "    }\n",
              "\n",
              "    .dataframe thead th {\n",
              "        text-align: right;\n",
              "    }\n",
              "</style>\n",
              "<table border=\"1\" class=\"dataframe\">\n",
              "  <thead>\n",
              "    <tr style=\"text-align: right;\">\n",
              "      <th></th>\n",
              "      <th>Age</th>\n",
              "      <th>DistanceFromHome</th>\n",
              "      <th>Education</th>\n",
              "      <th>MonthlyIncome</th>\n",
              "      <th>NumCompaniesWorked</th>\n",
              "      <th>PercentSalaryHike</th>\n",
              "      <th>StandardHours</th>\n",
              "      <th>StockOptionLevel</th>\n",
              "      <th>TotalWorkingYears</th>\n",
              "      <th>TrainingTimesLastYear</th>\n",
              "      <th>YearsAtCompany</th>\n",
              "      <th>YearsSinceLastPromotion</th>\n",
              "      <th>YearsWithCurrManager</th>\n",
              "      <th>BusinessTravel_Non-Travel</th>\n",
              "      <th>BusinessTravel_Travel_Frequently</th>\n",
              "      <th>BusinessTravel_Travel_Rarely</th>\n",
              "      <th>Department_Human Resources</th>\n",
              "      <th>Department_Research &amp; Development</th>\n",
              "      <th>Department_Sales</th>\n",
              "      <th>EducationField_Human Resources</th>\n",
              "      <th>EducationField_Life Sciences</th>\n",
              "      <th>EducationField_Marketing</th>\n",
              "      <th>EducationField_Medical</th>\n",
              "      <th>EducationField_Other</th>\n",
              "      <th>EducationField_Technical Degree</th>\n",
              "      <th>Gender_Female</th>\n",
              "      <th>Gender_Male</th>\n",
              "      <th>JobRole_Healthcare Representative</th>\n",
              "      <th>JobRole_Human Resources</th>\n",
              "      <th>JobRole_Laboratory Technician</th>\n",
              "      <th>JobRole_Manager</th>\n",
              "      <th>JobRole_Manufacturing Director</th>\n",
              "      <th>JobRole_Research Director</th>\n",
              "      <th>JobRole_Research Scientist</th>\n",
              "      <th>JobRole_Sales Executive</th>\n",
              "      <th>JobRole_Sales Representative</th>\n",
              "      <th>MaritalStatus_Divorced</th>\n",
              "      <th>MaritalStatus_Married</th>\n",
              "      <th>MaritalStatus_Single</th>\n",
              "    </tr>\n",
              "  </thead>\n",
              "  <tbody>\n",
              "    <tr>\n",
              "      <th>0</th>\n",
              "      <td>40</td>\n",
              "      <td>2</td>\n",
              "      <td>3</td>\n",
              "      <td>47750</td>\n",
              "      <td>3.0</td>\n",
              "      <td>15</td>\n",
              "      <td>8</td>\n",
              "      <td>1</td>\n",
              "      <td>15.0</td>\n",
              "      <td>3</td>\n",
              "      <td>5</td>\n",
              "      <td>1</td>\n",
              "      <td>0</td>\n",
              "      <td>0</td>\n",
              "      <td>0</td>\n",
              "      <td>1</td>\n",
              "      <td>0</td>\n",
              "      <td>1</td>\n",
              "      <td>0</td>\n",
              "      <td>0</td>\n",
              "      <td>0</td>\n",
              "      <td>0</td>\n",
              "      <td>1</td>\n",
              "      <td>0</td>\n",
              "      <td>0</td>\n",
              "      <td>0</td>\n",
              "      <td>1</td>\n",
              "      <td>0</td>\n",
              "      <td>0</td>\n",
              "      <td>0</td>\n",
              "      <td>0</td>\n",
              "      <td>0</td>\n",
              "      <td>1</td>\n",
              "      <td>0</td>\n",
              "      <td>0</td>\n",
              "      <td>0</td>\n",
              "      <td>0</td>\n",
              "      <td>0</td>\n",
              "      <td>1</td>\n",
              "    </tr>\n",
              "    <tr>\n",
              "      <th>1</th>\n",
              "      <td>31</td>\n",
              "      <td>28</td>\n",
              "      <td>4</td>\n",
              "      <td>127420</td>\n",
              "      <td>1.0</td>\n",
              "      <td>11</td>\n",
              "      <td>8</td>\n",
              "      <td>0</td>\n",
              "      <td>10.0</td>\n",
              "      <td>4</td>\n",
              "      <td>10</td>\n",
              "      <td>0</td>\n",
              "      <td>2</td>\n",
              "      <td>0</td>\n",
              "      <td>0</td>\n",
              "      <td>1</td>\n",
              "      <td>0</td>\n",
              "      <td>1</td>\n",
              "      <td>0</td>\n",
              "      <td>0</td>\n",
              "      <td>0</td>\n",
              "      <td>0</td>\n",
              "      <td>0</td>\n",
              "      <td>0</td>\n",
              "      <td>1</td>\n",
              "      <td>1</td>\n",
              "      <td>0</td>\n",
              "      <td>0</td>\n",
              "      <td>0</td>\n",
              "      <td>0</td>\n",
              "      <td>0</td>\n",
              "      <td>0</td>\n",
              "      <td>0</td>\n",
              "      <td>0</td>\n",
              "      <td>1</td>\n",
              "      <td>0</td>\n",
              "      <td>0</td>\n",
              "      <td>1</td>\n",
              "      <td>0</td>\n",
              "    </tr>\n",
              "    <tr>\n",
              "      <th>2</th>\n",
              "      <td>35</td>\n",
              "      <td>3</td>\n",
              "      <td>3</td>\n",
              "      <td>22580</td>\n",
              "      <td>1.0</td>\n",
              "      <td>11</td>\n",
              "      <td>8</td>\n",
              "      <td>1</td>\n",
              "      <td>2.0</td>\n",
              "      <td>2</td>\n",
              "      <td>2</td>\n",
              "      <td>2</td>\n",
              "      <td>2</td>\n",
              "      <td>0</td>\n",
              "      <td>1</td>\n",
              "      <td>0</td>\n",
              "      <td>0</td>\n",
              "      <td>1</td>\n",
              "      <td>0</td>\n",
              "      <td>0</td>\n",
              "      <td>0</td>\n",
              "      <td>0</td>\n",
              "      <td>1</td>\n",
              "      <td>0</td>\n",
              "      <td>0</td>\n",
              "      <td>1</td>\n",
              "      <td>0</td>\n",
              "      <td>0</td>\n",
              "      <td>0</td>\n",
              "      <td>1</td>\n",
              "      <td>0</td>\n",
              "      <td>0</td>\n",
              "      <td>0</td>\n",
              "      <td>0</td>\n",
              "      <td>0</td>\n",
              "      <td>0</td>\n",
              "      <td>0</td>\n",
              "      <td>1</td>\n",
              "      <td>0</td>\n",
              "    </tr>\n",
              "    <tr>\n",
              "      <th>3</th>\n",
              "      <td>33</td>\n",
              "      <td>2</td>\n",
              "      <td>2</td>\n",
              "      <td>24400</td>\n",
              "      <td>0.0</td>\n",
              "      <td>18</td>\n",
              "      <td>8</td>\n",
              "      <td>3</td>\n",
              "      <td>4.0</td>\n",
              "      <td>4</td>\n",
              "      <td>3</td>\n",
              "      <td>0</td>\n",
              "      <td>2</td>\n",
              "      <td>0</td>\n",
              "      <td>0</td>\n",
              "      <td>1</td>\n",
              "      <td>0</td>\n",
              "      <td>1</td>\n",
              "      <td>0</td>\n",
              "      <td>0</td>\n",
              "      <td>0</td>\n",
              "      <td>0</td>\n",
              "      <td>1</td>\n",
              "      <td>0</td>\n",
              "      <td>0</td>\n",
              "      <td>0</td>\n",
              "      <td>1</td>\n",
              "      <td>0</td>\n",
              "      <td>0</td>\n",
              "      <td>0</td>\n",
              "      <td>0</td>\n",
              "      <td>0</td>\n",
              "      <td>0</td>\n",
              "      <td>0</td>\n",
              "      <td>1</td>\n",
              "      <td>0</td>\n",
              "      <td>0</td>\n",
              "      <td>0</td>\n",
              "      <td>1</td>\n",
              "    </tr>\n",
              "    <tr>\n",
              "      <th>4</th>\n",
              "      <td>32</td>\n",
              "      <td>2</td>\n",
              "      <td>3</td>\n",
              "      <td>57470</td>\n",
              "      <td>1.0</td>\n",
              "      <td>13</td>\n",
              "      <td>8</td>\n",
              "      <td>0</td>\n",
              "      <td>8.0</td>\n",
              "      <td>0</td>\n",
              "      <td>8</td>\n",
              "      <td>0</td>\n",
              "      <td>7</td>\n",
              "      <td>0</td>\n",
              "      <td>0</td>\n",
              "      <td>1</td>\n",
              "      <td>0</td>\n",
              "      <td>1</td>\n",
              "      <td>0</td>\n",
              "      <td>0</td>\n",
              "      <td>0</td>\n",
              "      <td>0</td>\n",
              "      <td>1</td>\n",
              "      <td>0</td>\n",
              "      <td>0</td>\n",
              "      <td>0</td>\n",
              "      <td>1</td>\n",
              "      <td>0</td>\n",
              "      <td>0</td>\n",
              "      <td>0</td>\n",
              "      <td>0</td>\n",
              "      <td>0</td>\n",
              "      <td>0</td>\n",
              "      <td>1</td>\n",
              "      <td>0</td>\n",
              "      <td>0</td>\n",
              "      <td>0</td>\n",
              "      <td>1</td>\n",
              "      <td>0</td>\n",
              "    </tr>\n",
              "  </tbody>\n",
              "</table>\n",
              "</div>"
            ],
            "text/plain": [
              "   Age  DistanceFromHome  ...  MaritalStatus_Married  MaritalStatus_Single\n",
              "0   40                 2  ...                      0                     1\n",
              "1   31                28  ...                      1                     0\n",
              "2   35                 3  ...                      1                     0\n",
              "3   33                 2  ...                      0                     1\n",
              "4   32                 2  ...                      1                     0\n",
              "\n",
              "[5 rows x 39 columns]"
            ]
          },
          "metadata": {
            "tags": []
          },
          "execution_count": 14
        }
      ]
    },
    {
      "cell_type": "markdown",
      "metadata": {
        "id": "jz07J1T-EzXh"
      },
      "source": [
        "##   Обучаем модель"
      ]
    },
    {
      "cell_type": "code",
      "metadata": {
        "colab": {
          "base_uri": "https://localhost:8080/"
        },
        "id": "9NQo5SwYEzXj",
        "outputId": "783fbcda-5ae5-4757-8a8f-106229e768c8"
      },
      "source": [
        "# используем градиентный бустинг\n",
        "import xgboost as xgb \n",
        "xgboost_model = xgb.XGBClassifier(use_label_encoder=False, verbosity=0) # создаем прототип модели\n",
        "xgboost_model"
      ],
      "execution_count": 15,
      "outputs": [
        {
          "output_type": "execute_result",
          "data": {
            "text/plain": [
              "XGBClassifier(base_score=0.5, booster='gbtree', colsample_bylevel=1,\n",
              "              colsample_bynode=1, colsample_bytree=1, gamma=0,\n",
              "              learning_rate=0.1, max_delta_step=0, max_depth=3,\n",
              "              min_child_weight=1, missing=None, n_estimators=100, n_jobs=1,\n",
              "              nthread=None, objective='binary:logistic', random_state=0,\n",
              "              reg_alpha=0, reg_lambda=1, scale_pos_weight=1, seed=None,\n",
              "              silent=None, subsample=1, use_label_encoder=False, verbosity=0)"
            ]
          },
          "metadata": {
            "tags": []
          },
          "execution_count": 15
        }
      ]
    },
    {
      "cell_type": "markdown",
      "metadata": {
        "id": "mFwh_g5aYc5P"
      },
      "source": [
        "### Grid Search"
      ]
    },
    {
      "cell_type": "code",
      "metadata": {
        "id": "hntRTUdQYc5P"
      },
      "source": [
        "# используем Grid search для поиска лучших параметров модели\n",
        "# среди каких вариантов будем выбирать\n",
        "param_grid = {\n",
        "    'n_estimators': [150, 200, 250],\n",
        "    'max_depth': [11, 12, 13],\n",
        "    'learning_rate': [0.35, 0.4, 0.45]\n",
        "}"
      ],
      "execution_count": 16,
      "outputs": []
    },
    {
      "cell_type": "code",
      "metadata": {
        "colab": {
          "base_uri": "https://localhost:8080/"
        },
        "id": "8iF1XtVHYc5Q",
        "outputId": "284fae48-d828-4e6d-b591-3160e66b1517"
      },
      "source": [
        "# k-fold для кросс-валидации (количество разбиений)\n",
        "kfold = KFold(n_splits=5, shuffle=True, random_state=123)\n",
        "kfold"
      ],
      "execution_count": 17,
      "outputs": [
        {
          "output_type": "execute_result",
          "data": {
            "text/plain": [
              "KFold(n_splits=5, random_state=123, shuffle=True)"
            ]
          },
          "metadata": {
            "tags": []
          },
          "execution_count": 17
        }
      ]
    },
    {
      "cell_type": "code",
      "metadata": {
        "id": "RPFe84OoYc5Q"
      },
      "source": [
        "# запускаем Grid search для нашей модели, с вариантами поиска и количеством разбиений для кросс-валидации\n",
        "CV_xgb = GridSearchCV(estimator=xgboost_model, param_grid=param_grid, scoring='roc_auc', cv=kfold)"
      ],
      "execution_count": 18,
      "outputs": []
    },
    {
      "cell_type": "code",
      "metadata": {
        "id": "6gzKMXfVYc5R",
        "colab": {
          "base_uri": "https://localhost:8080/"
        },
        "outputId": "185deeb7-46e7-4bd0-c5f2-6cb5f05602a0"
      },
      "source": [
        "# положим наши данные в модель для поиска лучших параметров\n",
        "CV_xgb.fit(train_points_new, train_values)"
      ],
      "execution_count": 19,
      "outputs": [
        {
          "output_type": "execute_result",
          "data": {
            "text/plain": [
              "GridSearchCV(cv=KFold(n_splits=5, random_state=123, shuffle=True),\n",
              "             error_score=nan,\n",
              "             estimator=XGBClassifier(base_score=0.5, booster='gbtree',\n",
              "                                     colsample_bylevel=1, colsample_bynode=1,\n",
              "                                     colsample_bytree=1, gamma=0,\n",
              "                                     learning_rate=0.1, max_delta_step=0,\n",
              "                                     max_depth=3, min_child_weight=1,\n",
              "                                     missing=None, n_estimators=100, n_jobs=1,\n",
              "                                     nthread=None, objective='binary:logistic',\n",
              "                                     random_state=0, reg_alpha=0, reg_lambda=1,\n",
              "                                     scale_pos_weight=1, seed=None, silent=None,\n",
              "                                     subsample=1, use_label_encoder=False,\n",
              "                                     verbosity=0),\n",
              "             iid='deprecated', n_jobs=None,\n",
              "             param_grid={'learning_rate': [0.35, 0.4, 0.45],\n",
              "                         'max_depth': [11, 12, 13],\n",
              "                         'n_estimators': [150, 200, 250]},\n",
              "             pre_dispatch='2*n_jobs', refit=True, return_train_score=False,\n",
              "             scoring='roc_auc', verbose=0)"
            ]
          },
          "metadata": {
            "tags": []
          },
          "execution_count": 19
        }
      ]
    },
    {
      "cell_type": "code",
      "metadata": {
        "colab": {
          "base_uri": "https://localhost:8080/"
        },
        "id": "aF0CukdcmkXU",
        "outputId": "97c40713-b25c-4593-a5b8-1bd9af081521"
      },
      "source": [
        "# наилучшие параметры \n",
        "best_params = CV_xgb.best_params_\n",
        "best_params"
      ],
      "execution_count": 20,
      "outputs": [
        {
          "output_type": "execute_result",
          "data": {
            "text/plain": [
              "{'learning_rate': 0.4, 'max_depth': 12, 'n_estimators': 200}"
            ]
          },
          "metadata": {
            "tags": []
          },
          "execution_count": 20
        }
      ]
    },
    {
      "cell_type": "code",
      "metadata": {
        "id": "RLybe_avYc5R"
      },
      "source": [
        "# сохраним в переменную, чтобы каждый раз не запускать сложный расчет\n",
        "# best_params = {'learning_rate': 0.5, 'max_depth': 10, 'n_estimators': 300}\n",
        "# best_params = {'learning_rate': 0.4, 'max_depth': 12, 'n_estimators': 200}"
      ],
      "execution_count": 21,
      "outputs": []
    },
    {
      "cell_type": "markdown",
      "metadata": {
        "id": "RV06yRoxsLgR"
      },
      "source": [
        "### XGBoost"
      ]
    },
    {
      "cell_type": "code",
      "metadata": {
        "id": "K14kODm8Yc5S"
      },
      "source": [
        "# инициализируем модель с лучшими параметрами из Grid Search\n",
        "best_xgb_model = xgb.XGBClassifier(use_label_encoder=False, verbosity=0, **best_params)"
      ],
      "execution_count": 22,
      "outputs": []
    },
    {
      "cell_type": "code",
      "metadata": {
        "id": "2yDwl45sYc5S",
        "colab": {
          "base_uri": "https://localhost:8080/"
        },
        "outputId": "ceda7b43-5874-4ff7-ac3f-552f894abe22"
      },
      "source": [
        "# сделаем кросс-валидацию и выведем roc_auc\n",
        "roc_auc_scores = cross_val_score(best_xgb_model, train_points_new, train_values, cv=kfold, scoring='roc_auc')\n",
        "roc_auc_scores"
      ],
      "execution_count": 23,
      "outputs": [
        {
          "output_type": "execute_result",
          "data": {
            "text/plain": [
              "array([0.93393872, 0.91910746, 0.9226697 , 0.8964614 , 0.96270514])"
            ]
          },
          "metadata": {
            "tags": []
          },
          "execution_count": 23
        }
      ]
    },
    {
      "cell_type": "code",
      "metadata": {
        "colab": {
          "base_uri": "https://localhost:8080/"
        },
        "id": "u6OQ4Zow1o-y",
        "outputId": "42434bab-c089-4ffe-cbfd-bd567fbfe3b4"
      },
      "source": [
        "roc_auc_scores.mean()"
      ],
      "execution_count": 24,
      "outputs": [
        {
          "output_type": "execute_result",
          "data": {
            "text/plain": [
              "0.9269764839360862"
            ]
          },
          "metadata": {
            "tags": []
          },
          "execution_count": 24
        }
      ]
    },
    {
      "cell_type": "code",
      "metadata": {
        "colab": {
          "base_uri": "https://localhost:8080/"
        },
        "id": "0nxg0VmPEzXr",
        "outputId": "758549e7-2ece-4816-9b87-6c9cb4ff9182"
      },
      "source": [
        "# обучаем модель на обучающей выборке с лучшими параметрами модели\n",
        "best_xgb_model.fit(train_points_new, train_values)"
      ],
      "execution_count": 25,
      "outputs": [
        {
          "output_type": "execute_result",
          "data": {
            "text/plain": [
              "XGBClassifier(base_score=0.5, booster='gbtree', colsample_bylevel=1,\n",
              "              colsample_bynode=1, colsample_bytree=1, gamma=0,\n",
              "              learning_rate=0.4, max_delta_step=0, max_depth=12,\n",
              "              min_child_weight=1, missing=None, n_estimators=200, n_jobs=1,\n",
              "              nthread=None, objective='binary:logistic', random_state=0,\n",
              "              reg_alpha=0, reg_lambda=1, scale_pos_weight=1, seed=None,\n",
              "              silent=None, subsample=1, use_label_encoder=False, verbosity=0)"
            ]
          },
          "metadata": {
            "tags": []
          },
          "execution_count": 25
        }
      ]
    },
    {
      "cell_type": "code",
      "metadata": {
        "colab": {
          "base_uri": "https://localhost:8080/"
        },
        "id": "cVQjXdz9EzXx",
        "outputId": "ad306127-596e-47d1-b71f-34c8def96e4c"
      },
      "source": [
        "# получим предсказани; целевая метрика - ROC AUC, поэтому нужно получить вероятности принадлежности к классу 1\n",
        "test_predictions = best_xgb_model.predict_proba(test_points_new)[:, 1]\n",
        "test_predictions"
      ],
      "execution_count": 26,
      "outputs": [
        {
          "output_type": "execute_result",
          "data": {
            "text/plain": [
              "array([9.8514807e-01, 1.8818209e-04, 8.8844291e-04, ..., 1.7493606e-03,\n",
              "       6.0241758e-03, 7.0158765e-02], dtype=float32)"
            ]
          },
          "metadata": {
            "tags": []
          },
          "execution_count": 26
        }
      ]
    },
    {
      "cell_type": "code",
      "metadata": {
        "colab": {
          "base_uri": "https://localhost:8080/",
          "height": 339
        },
        "id": "fxbMc8nppP7z",
        "outputId": "c1f4294d-d98a-4ea1-93b8-1617930f2734"
      },
      "source": [
        "# изобразим на графике\n",
        "\n",
        "plt.figure(figsize=(8, 5))\n",
        "# строим распределение вероятностей \n",
        "plt.hist(test_predictions, bins=100)\n",
        "# строим прямую линию в точке 0.5\n",
        "plt.vlines(0.5, 0, 140)\n",
        "plt.xlabel('Предсказанная вероятность увольнения', fontsize=15)\n",
        "plt.ylabel('Количество сотрудников', fontsize=15);"
      ],
      "execution_count": 27,
      "outputs": [
        {
          "output_type": "display_data",
          "data": {
            "image/png": "[encoded data removed]",
            "text/plain": [
              "<Figure size 576x360 with 1 Axes>"
            ]
          },
          "metadata": {
            "tags": [],
            "needs_background": "light"
          }
        }
      ]
    },
    {
      "cell_type": "code",
      "metadata": {
        "colab": {
          "base_uri": "https://localhost:8080/",
          "height": 567
        },
        "id": "g-jIlWpfB2yy",
        "outputId": "dee123e9-70bb-4365-923e-01355310a168"
      },
      "source": [
        "# посмотрим, какие именно факторы влияют на увольнение\n",
        "fig, ax = plt.subplots(figsize=(15, 9))\n",
        "xgb.plot_importance(best_xgb_model, max_num_features=15, height=0.5, ax=ax)\n",
        "plt.show()"
      ],
      "execution_count": 29,
      "outputs": [
        {
          "output_type": "display_data",
          "data": {
            "image/png": "[encoded data removed]",
            "text/plain": [
              "<Figure size 1080x648 with 1 Axes>"
            ]
          },
          "metadata": {
            "tags": [],
            "needs_background": "light"
          }
        }
      ]
    },
    {
      "cell_type": "markdown",
      "metadata": {
        "id": "jJcQsyXIspbr"
      },
      "source": [
        "### Загрузка результатов"
      ]
    },
    {
      "cell_type": "code",
      "metadata": {
        "id": "jXq4yU9uEzX5"
      },
      "source": [
        "result = pd.DataFrame(columns=['index', 'Attrition']) # создадим таблицу и записываем в нее полученные данные\n",
        "result['index'] = idx\n",
        "result['Attrition'] = test_predictions"
      ],
      "execution_count": 30,
      "outputs": []
    },
    {
      "cell_type": "code",
      "metadata": {
        "id": "wmzxs8TeEzYD",
        "colab": {
          "base_uri": "https://localhost:8080/",
          "height": 17
        },
        "outputId": "328542ef-2726-4de1-8621-1f32b517dc8a"
      },
      "source": [
        "# сохраняем и загружаем полученный результат\n",
        "result.to_csv('result.csv', index=False)\n",
        "from google.colab import files\n",
        "files.download('result.csv')"
      ],
      "execution_count": 31,
      "outputs": [
        {
          "output_type": "display_data",
          "data": {
            "application/javascript": [
              "\n",
              "    async function download(id, filename, size) {\n",
              "      if (!google.colab.kernel.accessAllowed) {\n",
              "        return;\n",
              "      }\n",
              "      const div = document.createElement('div');\n",
              "      const label = document.createElement('label');\n",
              "      label.textContent = `Downloading \"${filename}\": `;\n",
              "      div.appendChild(label);\n",
              "      const progress = document.createElement('progress');\n",
              "      progress.max = size;\n",
              "      div.appendChild(progress);\n",
              "      document.body.appendChild(div);\n",
              "\n",
              "      const buffers = [];\n",
              "      let downloaded = 0;\n",
              "\n",
              "      const channel = await google.colab.kernel.comms.open(id);\n",
              "      // Send a message to notify the kernel that we're ready.\n",
              "      channel.send({})\n",
              "\n",
              "      for await (const message of channel.messages) {\n",
              "        // Send a message to notify the kernel that we're ready.\n",
              "        channel.send({})\n",
              "        if (message.buffers) {\n",
              "          for (const buffer of message.buffers) {\n",
              "            buffers.push(buffer);\n",
              "            downloaded += buffer.byteLength;\n",
              "            progress.value = downloaded;\n",
              "          }\n",
              "        }\n",
              "      }\n",
              "      const blob = new Blob(buffers, {type: 'application/binary'});\n",
              "      const a = document.createElement('a');\n",
              "      a.href = window.URL.createObjectURL(blob);\n",
              "      a.download = filename;\n",
              "      div.appendChild(a);\n",
              "      a.click();\n",
              "      div.remove();\n",
              "    }\n",
              "  "
            ],
            "text/plain": [
              "<IPython.core.display.Javascript object>"
            ]
          },
          "metadata": {
            "tags": []
          }
        },
        {
          "output_type": "display_data",
          "data": {
            "application/javascript": [
              "download(\"download_b12926a5-84a2-46c5-b82b-fd8f090af5f2\", \"result.csv\", 37488)"
            ],
            "text/plain": [
              "<IPython.core.display.Javascript object>"
            ]
          },
          "metadata": {
            "tags": []
          }
        }
      ]
    },
    {
      "cell_type": "markdown",
      "metadata": {
        "id": "gO2YFnnN-Vxt"
      },
      "source": [
        "_\n",
        "_\n",
        "_\n",
        "_"
      ]
    },
    {
      "cell_type": "markdown",
      "metadata": {
        "id": "PLYeP9lf91Dd"
      },
      "source": [
        "## Другие модели"
      ]
    },
    {
      "cell_type": "markdown",
      "metadata": {
        "id": "6uT0LLqh91Dn"
      },
      "source": [
        "### Модель логистической регрессии"
      ]
    },
    {
      "cell_type": "code",
      "metadata": {
        "id": "pJXZaiXr91Dn",
        "colab": {
          "base_uri": "https://localhost:8080/"
        },
        "outputId": "9d0d6730-fc07-4ce9-acd7-7ab2158ec73f"
      },
      "source": [
        "logistic_regression_model = linear_model.LogisticRegression()\n",
        "logistic_regression_model"
      ],
      "execution_count": 32,
      "outputs": [
        {
          "output_type": "execute_result",
          "data": {
            "text/plain": [
              "LogisticRegression(C=1.0, class_weight=None, dual=False, fit_intercept=True,\n",
              "                   intercept_scaling=1, l1_ratio=None, max_iter=100,\n",
              "                   multi_class='auto', n_jobs=None, penalty='l2',\n",
              "                   random_state=None, solver='lbfgs', tol=0.0001, verbose=0,\n",
              "                   warm_start=False)"
            ]
          },
          "metadata": {
            "tags": []
          },
          "execution_count": 32
        }
      ]
    },
    {
      "cell_type": "code",
      "metadata": {
        "id": "51ygGW6391Do",
        "colab": {
          "base_uri": "https://localhost:8080/"
        },
        "outputId": "794dcb7a-c7e6-4011-fc8d-8b4dca0f2237"
      },
      "source": [
        "logistic_regression_model.fit(train_points_new, train_values)"
      ],
      "execution_count": 33,
      "outputs": [
        {
          "output_type": "execute_result",
          "data": {
            "text/plain": [
              "LogisticRegression(C=1.0, class_weight=None, dual=False, fit_intercept=True,\n",
              "                   intercept_scaling=1, l1_ratio=None, max_iter=100,\n",
              "                   multi_class='auto', n_jobs=None, penalty='l2',\n",
              "                   random_state=None, solver='lbfgs', tol=0.0001, verbose=0,\n",
              "                   warm_start=False)"
            ]
          },
          "metadata": {
            "tags": []
          },
          "execution_count": 33
        }
      ]
    },
    {
      "cell_type": "code",
      "metadata": {
        "id": "rDSBOxe891Do",
        "colab": {
          "base_uri": "https://localhost:8080/"
        },
        "outputId": "e22f486b-eda9-48fe-cced-5c41007df77c"
      },
      "source": [
        "# провалидируем тренировочную модель\n",
        "train_predictions = logistic_regression_model.predict(train_points_new)\n",
        "sum(train_predictions)"
      ],
      "execution_count": 34,
      "outputs": [
        {
          "output_type": "execute_result",
          "data": {
            "text/plain": [
              "0"
            ]
          },
          "metadata": {
            "tags": []
          },
          "execution_count": 34
        }
      ]
    },
    {
      "cell_type": "code",
      "metadata": {
        "id": "ufIHht9v91Do",
        "colab": {
          "base_uri": "https://localhost:8080/"
        },
        "outputId": "d472fecb-527e-4b94-ad59-23e2ae476b70"
      },
      "source": [
        "print(accuracy_score(train_values, train_predictions))"
      ],
      "execution_count": 35,
      "outputs": [
        {
          "output_type": "stream",
          "text": [
            "0.8277462609592573\n"
          ],
          "name": "stdout"
        }
      ]
    },
    {
      "cell_type": "code",
      "metadata": {
        "id": "7cuRbFuC91Dp",
        "colab": {
          "base_uri": "https://localhost:8080/",
          "height": 111
        },
        "outputId": "8e329f5a-53cb-4439-c006-f00e1e355efe"
      },
      "source": [
        "pd.DataFrame(confusion_matrix(train_values, train_predictions))"
      ],
      "execution_count": 36,
      "outputs": [
        {
          "output_type": "execute_result",
          "data": {
            "text/html": [
              "<div>\n",
              "<style scoped>\n",
              "    .dataframe tbody tr th:only-of-type {\n",
              "        vertical-align: middle;\n",
              "    }\n",
              "\n",
              "    .dataframe tbody tr th {\n",
              "        vertical-align: top;\n",
              "    }\n",
              "\n",
              "    .dataframe thead th {\n",
              "        text-align: right;\n",
              "    }\n",
              "</style>\n",
              "<table border=\"1\" class=\"dataframe\">\n",
              "  <thead>\n",
              "    <tr style=\"text-align: right;\">\n",
              "      <th></th>\n",
              "      <th>0</th>\n",
              "      <th>1</th>\n",
              "    </tr>\n",
              "  </thead>\n",
              "  <tbody>\n",
              "    <tr>\n",
              "      <th>0</th>\n",
              "      <td>1605</td>\n",
              "      <td>0</td>\n",
              "    </tr>\n",
              "    <tr>\n",
              "      <th>1</th>\n",
              "      <td>334</td>\n",
              "      <td>0</td>\n",
              "    </tr>\n",
              "  </tbody>\n",
              "</table>\n",
              "</div>"
            ],
            "text/plain": [
              "      0  1\n",
              "0  1605  0\n",
              "1   334  0"
            ]
          },
          "metadata": {
            "tags": []
          },
          "execution_count": 36
        }
      ]
    },
    {
      "cell_type": "code",
      "metadata": {
        "id": "3ymhQMk691Dp",
        "colab": {
          "base_uri": "https://localhost:8080/"
        },
        "outputId": "6f3a575a-62ca-4a1a-e6e4-589f5fc642ea"
      },
      "source": [
        "print(roc_auc_score(train_values, train_predictions))"
      ],
      "execution_count": 37,
      "outputs": [
        {
          "output_type": "stream",
          "text": [
            "0.5\n"
          ],
          "name": "stdout"
        }
      ]
    },
    {
      "cell_type": "code",
      "metadata": {
        "id": "XYu0jEic91Dp",
        "colab": {
          "base_uri": "https://localhost:8080/"
        },
        "outputId": "0765cf3c-725b-476d-e466-f422e455f7da"
      },
      "source": [
        "# сделаем прогноз\n",
        "test_predictions_logistic_regression = logistic_regression_model.predict(test_points_new)\n",
        "sum(test_predictions_logistic_regression)"
      ],
      "execution_count": 38,
      "outputs": [
        {
          "output_type": "execute_result",
          "data": {
            "text/plain": [
              "0"
            ]
          },
          "metadata": {
            "tags": []
          },
          "execution_count": 38
        }
      ]
    },
    {
      "cell_type": "code",
      "metadata": {
        "id": "M79tSp5291Dp",
        "colab": {
          "base_uri": "https://localhost:8080/",
          "height": 339
        },
        "outputId": "597c257e-2aa3-468e-913d-4bc20d117a37"
      },
      "source": [
        "plt.figure(figsize=(8, 5))\n",
        "plt.hist(test_predictions_logistic_regression, bins=50)\n",
        "plt.xlabel('Предсказанная вероятность увольнения', fontsize=15)\n",
        "plt.ylabel('Количество сотрудников', fontsize=15);\n",
        "\n",
        "# так себе модель..."
      ],
      "execution_count": 39,
      "outputs": [
        {
          "output_type": "display_data",
          "data": {
            "image/png": "[encoded data removed]",
            "text/plain": [
              "<Figure size 576x360 with 1 Axes>"
            ]
          },
          "metadata": {
            "tags": [],
            "needs_background": "light"
          }
        }
      ]
    },
    {
      "cell_type": "markdown",
      "metadata": {
        "id": "0yxOxQ8t91Dq"
      },
      "source": [
        "### Модель случайного леса"
      ]
    },
    {
      "cell_type": "code",
      "metadata": {
        "id": "2XuOF7IT91Dq",
        "colab": {
          "base_uri": "https://localhost:8080/"
        },
        "outputId": "3f403916-f59c-4a63-e57f-b0347f64ec3f"
      },
      "source": [
        "random_forest_model = ensemble.RandomForestClassifier(n_estimators=20)\n",
        "random_forest_model"
      ],
      "execution_count": 40,
      "outputs": [
        {
          "output_type": "execute_result",
          "data": {
            "text/plain": [
              "RandomForestClassifier(bootstrap=True, ccp_alpha=0.0, class_weight=None,\n",
              "                       criterion='gini', max_depth=None, max_features='auto',\n",
              "                       max_leaf_nodes=None, max_samples=None,\n",
              "                       min_impurity_decrease=0.0, min_impurity_split=None,\n",
              "                       min_samples_leaf=1, min_samples_split=2,\n",
              "                       min_weight_fraction_leaf=0.0, n_estimators=20,\n",
              "                       n_jobs=None, oob_score=False, random_state=None,\n",
              "                       verbose=0, warm_start=False)"
            ]
          },
          "metadata": {
            "tags": []
          },
          "execution_count": 40
        }
      ]
    },
    {
      "cell_type": "code",
      "metadata": {
        "id": "9Ko0CJ6w91Dq",
        "colab": {
          "base_uri": "https://localhost:8080/"
        },
        "outputId": "94f88f6d-bbe5-4278-a72c-6517c9ced372"
      },
      "source": [
        "random_forest_model.fit(train_points_new, train_values)"
      ],
      "execution_count": 41,
      "outputs": [
        {
          "output_type": "execute_result",
          "data": {
            "text/plain": [
              "RandomForestClassifier(bootstrap=True, ccp_alpha=0.0, class_weight=None,\n",
              "                       criterion='gini', max_depth=None, max_features='auto',\n",
              "                       max_leaf_nodes=None, max_samples=None,\n",
              "                       min_impurity_decrease=0.0, min_impurity_split=None,\n",
              "                       min_samples_leaf=1, min_samples_split=2,\n",
              "                       min_weight_fraction_leaf=0.0, n_estimators=20,\n",
              "                       n_jobs=None, oob_score=False, random_state=None,\n",
              "                       verbose=0, warm_start=False)"
            ]
          },
          "metadata": {
            "tags": []
          },
          "execution_count": 41
        }
      ]
    },
    {
      "cell_type": "code",
      "metadata": {
        "id": "3dQAoFld91Dq",
        "colab": {
          "base_uri": "https://localhost:8080/"
        },
        "outputId": "38fe9b2b-b681-4214-b4f3-081208f99976"
      },
      "source": [
        "# провалидируем тренировочную модель\n",
        "train_predictions = random_forest_model.predict(train_points_new)\n",
        "sum(train_predictions)"
      ],
      "execution_count": 42,
      "outputs": [
        {
          "output_type": "execute_result",
          "data": {
            "text/plain": [
              "328"
            ]
          },
          "metadata": {
            "tags": []
          },
          "execution_count": 42
        }
      ]
    },
    {
      "cell_type": "code",
      "metadata": {
        "scrolled": true,
        "id": "5FuqFE2f91Dq",
        "colab": {
          "base_uri": "https://localhost:8080/"
        },
        "outputId": "bc729cbb-b663-4f1f-a8cc-6ba63f198a33"
      },
      "source": [
        "print(accuracy_score(train_values, train_predictions))"
      ],
      "execution_count": 43,
      "outputs": [
        {
          "output_type": "stream",
          "text": [
            "0.9969056214543579\n"
          ],
          "name": "stdout"
        }
      ]
    },
    {
      "cell_type": "code",
      "metadata": {
        "id": "flFYhEQJ91Dr",
        "colab": {
          "base_uri": "https://localhost:8080/",
          "height": 111
        },
        "outputId": "b46b4539-42cf-48c1-fa22-5f5bdf194fe6"
      },
      "source": [
        "pd.DataFrame(confusion_matrix(train_values, train_predictions))"
      ],
      "execution_count": 44,
      "outputs": [
        {
          "output_type": "execute_result",
          "data": {
            "text/html": [
              "<div>\n",
              "<style scoped>\n",
              "    .dataframe tbody tr th:only-of-type {\n",
              "        vertical-align: middle;\n",
              "    }\n",
              "\n",
              "    .dataframe tbody tr th {\n",
              "        vertical-align: top;\n",
              "    }\n",
              "\n",
              "    .dataframe thead th {\n",
              "        text-align: right;\n",
              "    }\n",
              "</style>\n",
              "<table border=\"1\" class=\"dataframe\">\n",
              "  <thead>\n",
              "    <tr style=\"text-align: right;\">\n",
              "      <th></th>\n",
              "      <th>0</th>\n",
              "      <th>1</th>\n",
              "    </tr>\n",
              "  </thead>\n",
              "  <tbody>\n",
              "    <tr>\n",
              "      <th>0</th>\n",
              "      <td>1605</td>\n",
              "      <td>0</td>\n",
              "    </tr>\n",
              "    <tr>\n",
              "      <th>1</th>\n",
              "      <td>6</td>\n",
              "      <td>328</td>\n",
              "    </tr>\n",
              "  </tbody>\n",
              "</table>\n",
              "</div>"
            ],
            "text/plain": [
              "      0    1\n",
              "0  1605    0\n",
              "1     6  328"
            ]
          },
          "metadata": {
            "tags": []
          },
          "execution_count": 44
        }
      ]
    },
    {
      "cell_type": "code",
      "metadata": {
        "id": "SGGSS6kl91Dr",
        "colab": {
          "base_uri": "https://localhost:8080/"
        },
        "outputId": "8cc83703-14fe-46d9-eb98-fbd67507c100"
      },
      "source": [
        "print(roc_auc_score(train_values, train_predictions))"
      ],
      "execution_count": 45,
      "outputs": [
        {
          "output_type": "stream",
          "text": [
            "0.9910179640718563\n"
          ],
          "name": "stdout"
        }
      ]
    },
    {
      "cell_type": "code",
      "metadata": {
        "id": "zGP9MO7d91Dr",
        "colab": {
          "base_uri": "https://localhost:8080/"
        },
        "outputId": "ce7bb38b-fa67-4d16-d01d-1862fbfff65f"
      },
      "source": [
        "# сделаем прогноз\n",
        "test_predictions_random_forest = random_forest_model.predict(test_points_new)\n",
        "sum(test_predictions_random_forest)"
      ],
      "execution_count": 46,
      "outputs": [
        {
          "output_type": "execute_result",
          "data": {
            "text/plain": [
              "255"
            ]
          },
          "metadata": {
            "tags": []
          },
          "execution_count": 46
        }
      ]
    },
    {
      "cell_type": "code",
      "metadata": {
        "id": "I6Zf8Ak_91Dr",
        "colab": {
          "base_uri": "https://localhost:8080/",
          "height": 339
        },
        "outputId": "206d58e4-fcd9-4705-e03c-2680627ca6fb"
      },
      "source": [
        "plt.figure(figsize=(8, 5))\n",
        "plt.hist(test_predictions_random_forest, bins=50)\n",
        "plt.xlabel('Предсказанная вероятность увольнения', fontsize=15)\n",
        "plt.ylabel('Количество сотрудников', fontsize=15);"
      ],
      "execution_count": 47,
      "outputs": [
        {
          "output_type": "display_data",
          "data": {
            "image/png": "[encoded data removed]",
            "text/plain": [
              "<Figure size 576x360 with 1 Axes>"
            ]
          },
          "metadata": {
            "tags": [],
            "needs_background": "light"
          }
        }
      ]
    }
  ]
}