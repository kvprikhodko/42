{
  "nbformat": 4,
  "nbformat_minor": 0,
  "metadata": {
    "colab": {
      "name": "The_Movies_Dataset.ipynb",
      "provenance": [],
      "collapsed_sections": []
    },
    "kernelspec": {
      "name": "python3",
      "display_name": "Python 3"
    }
  },
  "cells": [
    {
      "cell_type": "markdown",
      "metadata": {
        "id": "StbRObWKbsBP"
      },
      "source": [
        "#Анализ Киноиндустрии\n",
        "\n",
        "*   [The Movies Dataset](https://www.kaggle.com/rounakbanik/the-movies-dataset)\n",
        "*   [Презентация](https://drive.google.com/file/d/1kfFj8XZE_FR4nkNJ5E1nbFV27yEKIAD7/view?usp=sharing)"
      ]
    },
    {
      "cell_type": "code",
      "metadata": {
        "id": "_QyzAtBvYhGO"
      },
      "source": [
        "import pandas as pd\n",
        "import numpy as np\n",
        "import matplotlib.pyplot as plt\n",
        "%matplotlib inline\n",
        "import json\n",
        "from ast import literal_eval"
      ],
      "execution_count": null,
      "outputs": []
    },
    {
      "cell_type": "code",
      "metadata": {
        "id": "zbfRYrrCswDB",
        "colab": {
          "base_uri": "https://localhost:8080/",
          "height": 125
        },
        "outputId": "2bee3068-5a68-49ca-a255-5f487d0d94be"
      },
      "source": [
        "# подключаемся к google drive для импорта файлов\n",
        "from google.colab import drive\n",
        "drive.mount('/content/gdrive')"
      ],
      "execution_count": null,
      "outputs": [
        {
          "output_type": "stream",
          "text": [
            "Go to this URL in a browser: https://accounts.google.com/o/oauth2/auth?client_id=947318989803-6bn6qk8qdgf4n4g3pfee6491hc0brc4i.apps.googleusercontent.com&redirect_uri=urn%3aietf%3awg%3aoauth%3a2.0%3aoob&response_type=code&scope=email%20https%3a%2f%2fwww.googleapis.com%2fauth%2fdocs.test%20https%3a%2f%2fwww.googleapis.com%2fauth%2fdrive%20https%3a%2f%2fwww.googleapis.com%2fauth%2fdrive.photos.readonly%20https%3a%2f%2fwww.googleapis.com%2fauth%2fpeopleapi.readonly\n",
            "\n",
            "Enter your authorization code:\n",
            "··········\n",
            "Mounted at /content/gdrive\n"
          ],
          "name": "stdout"
        }
      ]
    },
    {
      "cell_type": "markdown",
      "metadata": {
        "id": "v_evzF8fNN5J"
      },
      "source": [
        "## Импортируем данные"
      ]
    },
    {
      "cell_type": "markdown",
      "metadata": {
        "id": "ESlcT3rINTBh"
      },
      "source": [
        "movies_metadata - основная информация о фильмах"
      ]
    },
    {
      "cell_type": "code",
      "metadata": {
        "id": "LuUBS1shvboe",
        "colab": {
          "base_uri": "https://localhost:8080/",
          "height": 587
        },
        "outputId": "626c636f-045c-46c3-b8bd-51f40cafb245"
      },
      "source": [
        "# импортируем dataset, убиваем дубликаты и выбираем адекватные данные\n",
        "mm = pd.read_csv('/content/gdrive/My Drive/The Movies Dataset/dataset/movies_metadata.csv', sep=',', header='infer') \n",
        "mm.drop_duplicates(inplace=True)\n",
        "mm = mm[(mm['runtime'] > 30) & (mm['revenue'] > 50) & (mm['budget'] != '0') & (mm['status'] == 'Released') ] # полнометражные и вышедшие в прокат и с хоть каким-то бюджетом\n",
        "\n",
        "mm.info()"
      ],
      "execution_count": null,
      "outputs": [
        {
          "output_type": "stream",
          "text": [
            "/usr/local/lib/python3.6/dist-packages/IPython/core/interactiveshell.py:2718: DtypeWarning: Columns (10) have mixed types. Specify dtype option on import or set low_memory=False.\n",
            "  interactivity=interactivity, compiler=compiler, result=result)\n"
          ],
          "name": "stderr"
        },
        {
          "output_type": "stream",
          "text": [
            "<class 'pandas.core.frame.DataFrame'>\n",
            "Int64Index: 5322 entries, 0 to 45422\n",
            "Data columns (total 24 columns):\n",
            "adult                    5322 non-null object\n",
            "belongs_to_collection    1220 non-null object\n",
            "budget                   5322 non-null object\n",
            "genres                   5322 non-null object\n",
            "homepage                 1903 non-null object\n",
            "id                       5322 non-null object\n",
            "imdb_id                  5322 non-null object\n",
            "original_language        5322 non-null object\n",
            "original_title           5322 non-null object\n",
            "overview                 5320 non-null object\n",
            "popularity               5322 non-null object\n",
            "poster_path              5322 non-null object\n",
            "production_companies     5322 non-null object\n",
            "production_countries     5322 non-null object\n",
            "release_date             5322 non-null object\n",
            "revenue                  5322 non-null float64\n",
            "runtime                  5322 non-null float64\n",
            "spoken_languages         5322 non-null object\n",
            "status                   5322 non-null object\n",
            "tagline                  4601 non-null object\n",
            "title                    5322 non-null object\n",
            "video                    5322 non-null object\n",
            "vote_average             5322 non-null float64\n",
            "vote_count               5322 non-null float64\n",
            "dtypes: float64(4), object(20)\n",
            "memory usage: 1.0+ MB\n"
          ],
          "name": "stdout"
        }
      ]
    },
    {
      "cell_type": "code",
      "metadata": {
        "id": "_vKT0ulXcAio",
        "colab": {
          "base_uri": "https://localhost:8080/",
          "height": 287
        },
        "outputId": "34aada5a-dec4-4b29-9299-bfa53dd51958"
      },
      "source": [
        "# видим противоречия с типами столбцов и их содержимым, поэтому поправим те данные, которые нам понадобится в дальнейшем\n",
        "\n",
        "mm['adult'] = mm['adult'].map({'False':0,'True':1}) # меняем столбец на 1 и 0\n",
        "mm['budget'] = mm['budget'].astype('int') # бюджет переводим в число\n",
        "mm['id'] = mm['id'].astype('int') # переводим в число\n",
        "mm['popularity'] = mm['popularity'].astype('float') # популярность переводим в число\n",
        "mm['release_date'] = mm['release_date'].astype('datetime64') # дату релиза переводим в нормальную дату\n",
        "\n",
        "mm.describe()"
      ],
      "execution_count": null,
      "outputs": [
        {
          "output_type": "execute_result",
          "data": {
            "text/html": [
              "<div>\n",
              "<style scoped>\n",
              "    .dataframe tbody tr th:only-of-type {\n",
              "        vertical-align: middle;\n",
              "    }\n",
              "\n",
              "    .dataframe tbody tr th {\n",
              "        vertical-align: top;\n",
              "    }\n",
              "\n",
              "    .dataframe thead th {\n",
              "        text-align: right;\n",
              "    }\n",
              "</style>\n",
              "<table border=\"1\" class=\"dataframe\">\n",
              "  <thead>\n",
              "    <tr style=\"text-align: right;\">\n",
              "      <th></th>\n",
              "      <th>adult</th>\n",
              "      <th>budget</th>\n",
              "      <th>id</th>\n",
              "      <th>popularity</th>\n",
              "      <th>revenue</th>\n",
              "      <th>runtime</th>\n",
              "      <th>vote_average</th>\n",
              "      <th>vote_count</th>\n",
              "    </tr>\n",
              "  </thead>\n",
              "  <tbody>\n",
              "    <tr>\n",
              "      <th>count</th>\n",
              "      <td>5322.0</td>\n",
              "      <td>5.322000e+03</td>\n",
              "      <td>5322.000000</td>\n",
              "      <td>5322.000000</td>\n",
              "      <td>5.322000e+03</td>\n",
              "      <td>5322.000000</td>\n",
              "      <td>5322.000000</td>\n",
              "      <td>5322.000000</td>\n",
              "    </tr>\n",
              "    <tr>\n",
              "      <th>mean</th>\n",
              "      <td>0.0</td>\n",
              "      <td>3.141169e+07</td>\n",
              "      <td>60462.654453</td>\n",
              "      <td>9.851682</td>\n",
              "      <td>9.130316e+07</td>\n",
              "      <td>110.116873</td>\n",
              "      <td>6.278204</td>\n",
              "      <td>739.872416</td>\n",
              "    </tr>\n",
              "    <tr>\n",
              "      <th>std</th>\n",
              "      <td>0.0</td>\n",
              "      <td>4.026839e+07</td>\n",
              "      <td>95689.523234</td>\n",
              "      <td>13.871461</td>\n",
              "      <td>1.667951e+08</td>\n",
              "      <td>21.459512</td>\n",
              "      <td>0.918047</td>\n",
              "      <td>1256.336060</td>\n",
              "    </tr>\n",
              "    <tr>\n",
              "      <th>min</th>\n",
              "      <td>0.0</td>\n",
              "      <td>1.000000e+00</td>\n",
              "      <td>5.000000</td>\n",
              "      <td>0.000001</td>\n",
              "      <td>5.700000e+01</td>\n",
              "      <td>57.000000</td>\n",
              "      <td>0.000000</td>\n",
              "      <td>0.000000</td>\n",
              "    </tr>\n",
              "    <tr>\n",
              "      <th>25%</th>\n",
              "      <td>0.0</td>\n",
              "      <td>5.610470e+06</td>\n",
              "      <td>8677.250000</td>\n",
              "      <td>5.546865</td>\n",
              "      <td>7.438141e+06</td>\n",
              "      <td>95.000000</td>\n",
              "      <td>5.700000</td>\n",
              "      <td>80.000000</td>\n",
              "    </tr>\n",
              "    <tr>\n",
              "      <th>50%</th>\n",
              "      <td>0.0</td>\n",
              "      <td>1.700000e+07</td>\n",
              "      <td>14273.000000</td>\n",
              "      <td>8.435468</td>\n",
              "      <td>3.043705e+07</td>\n",
              "      <td>106.000000</td>\n",
              "      <td>6.300000</td>\n",
              "      <td>282.000000</td>\n",
              "    </tr>\n",
              "    <tr>\n",
              "      <th>75%</th>\n",
              "      <td>0.0</td>\n",
              "      <td>4.000000e+07</td>\n",
              "      <td>59961.750000</td>\n",
              "      <td>11.775760</td>\n",
              "      <td>1.005153e+08</td>\n",
              "      <td>120.000000</td>\n",
              "      <td>6.900000</td>\n",
              "      <td>812.000000</td>\n",
              "    </tr>\n",
              "    <tr>\n",
              "      <th>max</th>\n",
              "      <td>0.0</td>\n",
              "      <td>3.800000e+08</td>\n",
              "      <td>443319.000000</td>\n",
              "      <td>547.488298</td>\n",
              "      <td>2.787965e+09</td>\n",
              "      <td>338.000000</td>\n",
              "      <td>9.100000</td>\n",
              "      <td>14075.000000</td>\n",
              "    </tr>\n",
              "  </tbody>\n",
              "</table>\n",
              "</div>"
            ],
            "text/plain": [
              "        adult        budget  ...  vote_average    vote_count\n",
              "count  5322.0  5.322000e+03  ...   5322.000000   5322.000000\n",
              "mean      0.0  3.141169e+07  ...      6.278204    739.872416\n",
              "std       0.0  4.026839e+07  ...      0.918047   1256.336060\n",
              "min       0.0  1.000000e+00  ...      0.000000      0.000000\n",
              "25%       0.0  5.610470e+06  ...      5.700000     80.000000\n",
              "50%       0.0  1.700000e+07  ...      6.300000    282.000000\n",
              "75%       0.0  4.000000e+07  ...      6.900000    812.000000\n",
              "max       0.0  3.800000e+08  ...      9.100000  14075.000000\n",
              "\n",
              "[8 rows x 8 columns]"
            ]
          },
          "metadata": {
            "tags": []
          },
          "execution_count": 4
        }
      ]
    },
    {
      "cell_type": "code",
      "metadata": {
        "id": "8YYqHCa3UZ6R",
        "colab": {
          "base_uri": "https://localhost:8080/",
          "height": 621
        },
        "outputId": "611e9790-b023-417a-f138-1d0c9171ef43"
      },
      "source": [
        "# добавим нужные столбцы и преобразования\n",
        "\n",
        "mm['budget'] = mm['budget'] / 1000000 # переведем в миллионы\n",
        "mm['revenue'] = mm['revenue'] / 1000000 # переведем в миллионы\n",
        "mm['year'] = mm['release_date'].apply(lambda x: x.year) #год\n",
        "mm['decade'] = pd.cut(mm['year'], bins=np.arange(1910, 2030, 10)) # десятилетие\n",
        "mm['profitability'] = mm['revenue'] / mm['budget'] # рентабельность фильма\n",
        "mm['profitability'] = mm['profitability'].apply(lambda x: round(x, 2)) #округляем\n",
        "mm['popularity'] = mm['popularity'].apply(lambda x: round(x, 2)) #округляем\n",
        "mm['genres_full'] = mm['genres'].apply(lambda x: [item['name'] for item in json.loads(x.replace('\\'', '\"'))]) # выковыриваем набор жанров\n",
        "mm['countries_full'] = mm['production_countries'].apply(lambda x: [item['name'] for item in json.loads(x.replace('\\'', '\"'))]) # выковыриваем список стран\n",
        "mm = mm[(mm['budget'] > 0.1)] # убираем низкобюджетные фильмы\n",
        "\n",
        "mm.info()"
      ],
      "execution_count": null,
      "outputs": [
        {
          "output_type": "stream",
          "text": [
            "<class 'pandas.core.frame.DataFrame'>\n",
            "Int64Index: 5237 entries, 0 to 45422\n",
            "Data columns (total 29 columns):\n",
            "adult                    5237 non-null int64\n",
            "belongs_to_collection    1210 non-null object\n",
            "budget                   5237 non-null float64\n",
            "genres                   5237 non-null object\n",
            "homepage                 1875 non-null object\n",
            "id                       5237 non-null int64\n",
            "imdb_id                  5237 non-null object\n",
            "original_language        5237 non-null object\n",
            "original_title           5237 non-null object\n",
            "overview                 5235 non-null object\n",
            "popularity               5237 non-null float64\n",
            "poster_path              5237 non-null object\n",
            "production_companies     5237 non-null object\n",
            "production_countries     5237 non-null object\n",
            "release_date             5237 non-null datetime64[ns]\n",
            "revenue                  5237 non-null float64\n",
            "runtime                  5237 non-null float64\n",
            "spoken_languages         5237 non-null object\n",
            "status                   5237 non-null object\n",
            "tagline                  4539 non-null object\n",
            "title                    5237 non-null object\n",
            "video                    5237 non-null object\n",
            "vote_average             5237 non-null float64\n",
            "vote_count               5237 non-null float64\n",
            "year                     5237 non-null int64\n",
            "decade                   5237 non-null category\n",
            "profitability            5237 non-null float64\n",
            "genres_full              5237 non-null object\n",
            "countries_full           5237 non-null object\n",
            "dtypes: category(1), datetime64[ns](1), float64(7), int64(3), object(17)\n",
            "memory usage: 1.2+ MB\n"
          ],
          "name": "stdout"
        }
      ]
    },
    {
      "cell_type": "code",
      "metadata": {
        "id": "HCe69q1huam_",
        "colab": {
          "base_uri": "https://localhost:8080/",
          "height": 441
        },
        "outputId": "2312c442-b78b-4910-ea31-eb7386ef8c0b"
      },
      "source": [
        "mm.head(3)"
      ],
      "execution_count": null,
      "outputs": [
        {
          "output_type": "execute_result",
          "data": {
            "text/html": [
              "<div>\n",
              "<style scoped>\n",
              "    .dataframe tbody tr th:only-of-type {\n",
              "        vertical-align: middle;\n",
              "    }\n",
              "\n",
              "    .dataframe tbody tr th {\n",
              "        vertical-align: top;\n",
              "    }\n",
              "\n",
              "    .dataframe thead th {\n",
              "        text-align: right;\n",
              "    }\n",
              "</style>\n",
              "<table border=\"1\" class=\"dataframe\">\n",
              "  <thead>\n",
              "    <tr style=\"text-align: right;\">\n",
              "      <th></th>\n",
              "      <th>adult</th>\n",
              "      <th>belongs_to_collection</th>\n",
              "      <th>budget</th>\n",
              "      <th>genres</th>\n",
              "      <th>homepage</th>\n",
              "      <th>id</th>\n",
              "      <th>imdb_id</th>\n",
              "      <th>original_language</th>\n",
              "      <th>original_title</th>\n",
              "      <th>overview</th>\n",
              "      <th>popularity</th>\n",
              "      <th>poster_path</th>\n",
              "      <th>production_companies</th>\n",
              "      <th>production_countries</th>\n",
              "      <th>release_date</th>\n",
              "      <th>revenue</th>\n",
              "      <th>runtime</th>\n",
              "      <th>spoken_languages</th>\n",
              "      <th>status</th>\n",
              "      <th>tagline</th>\n",
              "      <th>title</th>\n",
              "      <th>video</th>\n",
              "      <th>vote_average</th>\n",
              "      <th>vote_count</th>\n",
              "      <th>year</th>\n",
              "      <th>decade</th>\n",
              "      <th>profitability</th>\n",
              "      <th>genres_full</th>\n",
              "      <th>countries_full</th>\n",
              "    </tr>\n",
              "  </thead>\n",
              "  <tbody>\n",
              "    <tr>\n",
              "      <th>0</th>\n",
              "      <td>0</td>\n",
              "      <td>{'id': 10194, 'name': 'Toy Story Collection', ...</td>\n",
              "      <td>30.0</td>\n",
              "      <td>[{'id': 16, 'name': 'Animation'}, {'id': 35, '...</td>\n",
              "      <td>http://toystory.disney.com/toy-story</td>\n",
              "      <td>862</td>\n",
              "      <td>tt0114709</td>\n",
              "      <td>en</td>\n",
              "      <td>Toy Story</td>\n",
              "      <td>Led by Woody, Andy's toys live happily in his ...</td>\n",
              "      <td>21.95</td>\n",
              "      <td>/rhIRbceoE9lR4veEXuwCC2wARtG.jpg</td>\n",
              "      <td>[{'name': 'Pixar Animation Studios', 'id': 3}]</td>\n",
              "      <td>[{'iso_3166_1': 'US', 'name': 'United States o...</td>\n",
              "      <td>1995-10-30</td>\n",
              "      <td>373.554033</td>\n",
              "      <td>81.0</td>\n",
              "      <td>[{'iso_639_1': 'en', 'name': 'English'}]</td>\n",
              "      <td>Released</td>\n",
              "      <td>NaN</td>\n",
              "      <td>Toy Story</td>\n",
              "      <td>False</td>\n",
              "      <td>7.7</td>\n",
              "      <td>5415.0</td>\n",
              "      <td>1995</td>\n",
              "      <td>(1990, 2000]</td>\n",
              "      <td>12.45</td>\n",
              "      <td>[Animation, Comedy, Family]</td>\n",
              "      <td>[United States of America]</td>\n",
              "    </tr>\n",
              "    <tr>\n",
              "      <th>1</th>\n",
              "      <td>0</td>\n",
              "      <td>NaN</td>\n",
              "      <td>65.0</td>\n",
              "      <td>[{'id': 12, 'name': 'Adventure'}, {'id': 14, '...</td>\n",
              "      <td>NaN</td>\n",
              "      <td>8844</td>\n",
              "      <td>tt0113497</td>\n",
              "      <td>en</td>\n",
              "      <td>Jumanji</td>\n",
              "      <td>When siblings Judy and Peter discover an encha...</td>\n",
              "      <td>17.02</td>\n",
              "      <td>/vzmL6fP7aPKNKPRTFnZmiUfciyV.jpg</td>\n",
              "      <td>[{'name': 'TriStar Pictures', 'id': 559}, {'na...</td>\n",
              "      <td>[{'iso_3166_1': 'US', 'name': 'United States o...</td>\n",
              "      <td>1995-12-15</td>\n",
              "      <td>262.797249</td>\n",
              "      <td>104.0</td>\n",
              "      <td>[{'iso_639_1': 'en', 'name': 'English'}, {'iso...</td>\n",
              "      <td>Released</td>\n",
              "      <td>Roll the dice and unleash the excitement!</td>\n",
              "      <td>Jumanji</td>\n",
              "      <td>False</td>\n",
              "      <td>6.9</td>\n",
              "      <td>2413.0</td>\n",
              "      <td>1995</td>\n",
              "      <td>(1990, 2000]</td>\n",
              "      <td>4.04</td>\n",
              "      <td>[Adventure, Fantasy, Family]</td>\n",
              "      <td>[United States of America]</td>\n",
              "    </tr>\n",
              "    <tr>\n",
              "      <th>3</th>\n",
              "      <td>0</td>\n",
              "      <td>NaN</td>\n",
              "      <td>16.0</td>\n",
              "      <td>[{'id': 35, 'name': 'Comedy'}, {'id': 18, 'nam...</td>\n",
              "      <td>NaN</td>\n",
              "      <td>31357</td>\n",
              "      <td>tt0114885</td>\n",
              "      <td>en</td>\n",
              "      <td>Waiting to Exhale</td>\n",
              "      <td>Cheated on, mistreated and stepped on, the wom...</td>\n",
              "      <td>3.86</td>\n",
              "      <td>/16XOMpEaLWkrcPqSQqhTmeJuqQl.jpg</td>\n",
              "      <td>[{'name': 'Twentieth Century Fox Film Corporat...</td>\n",
              "      <td>[{'iso_3166_1': 'US', 'name': 'United States o...</td>\n",
              "      <td>1995-12-22</td>\n",
              "      <td>81.452156</td>\n",
              "      <td>127.0</td>\n",
              "      <td>[{'iso_639_1': 'en', 'name': 'English'}]</td>\n",
              "      <td>Released</td>\n",
              "      <td>Friends are the people who let you be yourself...</td>\n",
              "      <td>Waiting to Exhale</td>\n",
              "      <td>False</td>\n",
              "      <td>6.1</td>\n",
              "      <td>34.0</td>\n",
              "      <td>1995</td>\n",
              "      <td>(1990, 2000]</td>\n",
              "      <td>5.09</td>\n",
              "      <td>[Comedy, Drama, Romance]</td>\n",
              "      <td>[United States of America]</td>\n",
              "    </tr>\n",
              "  </tbody>\n",
              "</table>\n",
              "</div>"
            ],
            "text/plain": [
              "   adult  ...              countries_full\n",
              "0      0  ...  [United States of America]\n",
              "1      0  ...  [United States of America]\n",
              "3      0  ...  [United States of America]\n",
              "\n",
              "[3 rows x 29 columns]"
            ]
          },
          "metadata": {
            "tags": []
          },
          "execution_count": 6
        }
      ]
    },
    {
      "cell_type": "markdown",
      "metadata": {
        "id": "8KXzimctA8f_"
      },
      "source": [
        "credits - информация о актерах и команде фильма"
      ]
    },
    {
      "cell_type": "code",
      "metadata": {
        "id": "80iqvkvigfSI",
        "colab": {
          "base_uri": "https://localhost:8080/",
          "height": 137
        },
        "outputId": "cca23580-0b8f-450a-bc8a-cdd0053e743a"
      },
      "source": [
        "# импортируем dataset, чистим\n",
        "cr = pd.read_csv('/content/gdrive/My Drive/The Movies Dataset/dataset/credits.csv', sep=',', header='infer')\n",
        "cr.drop_duplicates(inplace=True)\n",
        "cr.dropna(inplace=True)\n",
        "cr['id'] = cr['id'].astype('int')\n",
        "\n",
        "cr.head(3)"
      ],
      "execution_count": null,
      "outputs": [
        {
          "output_type": "execute_result",
          "data": {
            "text/html": [
              "<div>\n",
              "<style scoped>\n",
              "    .dataframe tbody tr th:only-of-type {\n",
              "        vertical-align: middle;\n",
              "    }\n",
              "\n",
              "    .dataframe tbody tr th {\n",
              "        vertical-align: top;\n",
              "    }\n",
              "\n",
              "    .dataframe thead th {\n",
              "        text-align: right;\n",
              "    }\n",
              "</style>\n",
              "<table border=\"1\" class=\"dataframe\">\n",
              "  <thead>\n",
              "    <tr style=\"text-align: right;\">\n",
              "      <th></th>\n",
              "      <th>cast</th>\n",
              "      <th>crew</th>\n",
              "      <th>id</th>\n",
              "    </tr>\n",
              "  </thead>\n",
              "  <tbody>\n",
              "    <tr>\n",
              "      <th>0</th>\n",
              "      <td>[{'cast_id': 14, 'character': 'Woody (voice)',...</td>\n",
              "      <td>[{'credit_id': '52fe4284c3a36847f8024f49', 'de...</td>\n",
              "      <td>862</td>\n",
              "    </tr>\n",
              "    <tr>\n",
              "      <th>1</th>\n",
              "      <td>[{'cast_id': 1, 'character': 'Alan Parrish', '...</td>\n",
              "      <td>[{'credit_id': '52fe44bfc3a36847f80a7cd1', 'de...</td>\n",
              "      <td>8844</td>\n",
              "    </tr>\n",
              "    <tr>\n",
              "      <th>2</th>\n",
              "      <td>[{'cast_id': 2, 'character': 'Max Goldman', 'c...</td>\n",
              "      <td>[{'credit_id': '52fe466a9251416c75077a89', 'de...</td>\n",
              "      <td>15602</td>\n",
              "    </tr>\n",
              "  </tbody>\n",
              "</table>\n",
              "</div>"
            ],
            "text/plain": [
              "                                                cast  ...     id\n",
              "0  [{'cast_id': 14, 'character': 'Woody (voice)',...  ...    862\n",
              "1  [{'cast_id': 1, 'character': 'Alan Parrish', '...  ...   8844\n",
              "2  [{'cast_id': 2, 'character': 'Max Goldman', 'c...  ...  15602\n",
              "\n",
              "[3 rows x 3 columns]"
            ]
          },
          "metadata": {
            "tags": []
          },
          "execution_count": 7
        }
      ]
    },
    {
      "cell_type": "code",
      "metadata": {
        "id": "ADtyC5M7D-M0"
      },
      "source": [
        "# преобразуем месево в строках в структуру\n",
        "features = ['cast', 'crew']\n",
        "for feature in features:\n",
        "    cr[feature] = cr[feature].apply(literal_eval)"
      ],
      "execution_count": null,
      "outputs": []
    },
    {
      "cell_type": "code",
      "metadata": {
        "id": "GONdZcJuCpYr",
        "colab": {
          "base_uri": "https://localhost:8080/",
          "height": 197
        },
        "outputId": "d79527a5-6081-48ff-f20c-f970bc1246d5"
      },
      "source": [
        "# выковыриваем режиссера\n",
        "\n",
        "def get_director(x):\n",
        "    for i in x:\n",
        "        if i['job'] == 'Director':\n",
        "            return i['name']\n",
        "    return np.nan\n",
        "\n",
        "cr['director'] = cr['crew'].apply(get_director)\n",
        "cr.head(5)"
      ],
      "execution_count": null,
      "outputs": [
        {
          "output_type": "execute_result",
          "data": {
            "text/html": [
              "<div>\n",
              "<style scoped>\n",
              "    .dataframe tbody tr th:only-of-type {\n",
              "        vertical-align: middle;\n",
              "    }\n",
              "\n",
              "    .dataframe tbody tr th {\n",
              "        vertical-align: top;\n",
              "    }\n",
              "\n",
              "    .dataframe thead th {\n",
              "        text-align: right;\n",
              "    }\n",
              "</style>\n",
              "<table border=\"1\" class=\"dataframe\">\n",
              "  <thead>\n",
              "    <tr style=\"text-align: right;\">\n",
              "      <th></th>\n",
              "      <th>cast</th>\n",
              "      <th>crew</th>\n",
              "      <th>id</th>\n",
              "      <th>director</th>\n",
              "    </tr>\n",
              "  </thead>\n",
              "  <tbody>\n",
              "    <tr>\n",
              "      <th>0</th>\n",
              "      <td>[{'cast_id': 14, 'character': 'Woody (voice)',...</td>\n",
              "      <td>[{'credit_id': '52fe4284c3a36847f8024f49', 'de...</td>\n",
              "      <td>862</td>\n",
              "      <td>John Lasseter</td>\n",
              "    </tr>\n",
              "    <tr>\n",
              "      <th>1</th>\n",
              "      <td>[{'cast_id': 1, 'character': 'Alan Parrish', '...</td>\n",
              "      <td>[{'credit_id': '52fe44bfc3a36847f80a7cd1', 'de...</td>\n",
              "      <td>8844</td>\n",
              "      <td>Joe Johnston</td>\n",
              "    </tr>\n",
              "    <tr>\n",
              "      <th>2</th>\n",
              "      <td>[{'cast_id': 2, 'character': 'Max Goldman', 'c...</td>\n",
              "      <td>[{'credit_id': '52fe466a9251416c75077a89', 'de...</td>\n",
              "      <td>15602</td>\n",
              "      <td>Howard Deutch</td>\n",
              "    </tr>\n",
              "    <tr>\n",
              "      <th>3</th>\n",
              "      <td>[{'cast_id': 1, 'character': 'Savannah 'Vannah...</td>\n",
              "      <td>[{'credit_id': '52fe44779251416c91011acb', 'de...</td>\n",
              "      <td>31357</td>\n",
              "      <td>Forest Whitaker</td>\n",
              "    </tr>\n",
              "    <tr>\n",
              "      <th>4</th>\n",
              "      <td>[{'cast_id': 1, 'character': 'George Banks', '...</td>\n",
              "      <td>[{'credit_id': '52fe44959251416c75039ed7', 'de...</td>\n",
              "      <td>11862</td>\n",
              "      <td>Charles Shyer</td>\n",
              "    </tr>\n",
              "  </tbody>\n",
              "</table>\n",
              "</div>"
            ],
            "text/plain": [
              "                                                cast  ...         director\n",
              "0  [{'cast_id': 14, 'character': 'Woody (voice)',...  ...    John Lasseter\n",
              "1  [{'cast_id': 1, 'character': 'Alan Parrish', '...  ...     Joe Johnston\n",
              "2  [{'cast_id': 2, 'character': 'Max Goldman', 'c...  ...    Howard Deutch\n",
              "3  [{'cast_id': 1, 'character': 'Savannah 'Vannah...  ...  Forest Whitaker\n",
              "4  [{'cast_id': 1, 'character': 'George Banks', '...  ...    Charles Shyer\n",
              "\n",
              "[5 rows x 4 columns]"
            ]
          },
          "metadata": {
            "tags": []
          },
          "execution_count": 9
        }
      ]
    },
    {
      "cell_type": "code",
      "metadata": {
        "id": "vGj3nUaQBINU",
        "colab": {
          "base_uri": "https://localhost:8080/",
          "height": 197
        },
        "outputId": "af098f68-4c99-4296-b7cd-a47d87ee790c"
      },
      "source": [
        "# выковыриваем актеров\n",
        "\n",
        "def get_actors(actors):\n",
        "    if isinstance(actors, list):\n",
        "        actor_names = [actor['name'] for actor in actors]\n",
        "    else:\n",
        "        actor_names = []\n",
        "    return actor_names\n",
        "\n",
        "\n",
        "cr['actors'] = cr['cast'].apply(get_actors)\n",
        "cr.head(5)"
      ],
      "execution_count": null,
      "outputs": [
        {
          "output_type": "execute_result",
          "data": {
            "text/html": [
              "<div>\n",
              "<style scoped>\n",
              "    .dataframe tbody tr th:only-of-type {\n",
              "        vertical-align: middle;\n",
              "    }\n",
              "\n",
              "    .dataframe tbody tr th {\n",
              "        vertical-align: top;\n",
              "    }\n",
              "\n",
              "    .dataframe thead th {\n",
              "        text-align: right;\n",
              "    }\n",
              "</style>\n",
              "<table border=\"1\" class=\"dataframe\">\n",
              "  <thead>\n",
              "    <tr style=\"text-align: right;\">\n",
              "      <th></th>\n",
              "      <th>cast</th>\n",
              "      <th>crew</th>\n",
              "      <th>id</th>\n",
              "      <th>director</th>\n",
              "      <th>actors</th>\n",
              "    </tr>\n",
              "  </thead>\n",
              "  <tbody>\n",
              "    <tr>\n",
              "      <th>0</th>\n",
              "      <td>[{'cast_id': 14, 'character': 'Woody (voice)',...</td>\n",
              "      <td>[{'credit_id': '52fe4284c3a36847f8024f49', 'de...</td>\n",
              "      <td>862</td>\n",
              "      <td>John Lasseter</td>\n",
              "      <td>[Tom Hanks, Tim Allen, Don Rickles, Jim Varney...</td>\n",
              "    </tr>\n",
              "    <tr>\n",
              "      <th>1</th>\n",
              "      <td>[{'cast_id': 1, 'character': 'Alan Parrish', '...</td>\n",
              "      <td>[{'credit_id': '52fe44bfc3a36847f80a7cd1', 'de...</td>\n",
              "      <td>8844</td>\n",
              "      <td>Joe Johnston</td>\n",
              "      <td>[Robin Williams, Jonathan Hyde, Kirsten Dunst,...</td>\n",
              "    </tr>\n",
              "    <tr>\n",
              "      <th>2</th>\n",
              "      <td>[{'cast_id': 2, 'character': 'Max Goldman', 'c...</td>\n",
              "      <td>[{'credit_id': '52fe466a9251416c75077a89', 'de...</td>\n",
              "      <td>15602</td>\n",
              "      <td>Howard Deutch</td>\n",
              "      <td>[Walter Matthau, Jack Lemmon, Ann-Margret, Sop...</td>\n",
              "    </tr>\n",
              "    <tr>\n",
              "      <th>3</th>\n",
              "      <td>[{'cast_id': 1, 'character': 'Savannah 'Vannah...</td>\n",
              "      <td>[{'credit_id': '52fe44779251416c91011acb', 'de...</td>\n",
              "      <td>31357</td>\n",
              "      <td>Forest Whitaker</td>\n",
              "      <td>[Whitney Houston, Angela Bassett, Loretta Devi...</td>\n",
              "    </tr>\n",
              "    <tr>\n",
              "      <th>4</th>\n",
              "      <td>[{'cast_id': 1, 'character': 'George Banks', '...</td>\n",
              "      <td>[{'credit_id': '52fe44959251416c75039ed7', 'de...</td>\n",
              "      <td>11862</td>\n",
              "      <td>Charles Shyer</td>\n",
              "      <td>[Steve Martin, Diane Keaton, Martin Short, Kim...</td>\n",
              "    </tr>\n",
              "  </tbody>\n",
              "</table>\n",
              "</div>"
            ],
            "text/plain": [
              "                                                cast  ...                                             actors\n",
              "0  [{'cast_id': 14, 'character': 'Woody (voice)',...  ...  [Tom Hanks, Tim Allen, Don Rickles, Jim Varney...\n",
              "1  [{'cast_id': 1, 'character': 'Alan Parrish', '...  ...  [Robin Williams, Jonathan Hyde, Kirsten Dunst,...\n",
              "2  [{'cast_id': 2, 'character': 'Max Goldman', 'c...  ...  [Walter Matthau, Jack Lemmon, Ann-Margret, Sop...\n",
              "3  [{'cast_id': 1, 'character': 'Savannah 'Vannah...  ...  [Whitney Houston, Angela Bassett, Loretta Devi...\n",
              "4  [{'cast_id': 1, 'character': 'George Banks', '...  ...  [Steve Martin, Diane Keaton, Martin Short, Kim...\n",
              "\n",
              "[5 rows x 5 columns]"
            ]
          },
          "metadata": {
            "tags": []
          },
          "execution_count": 10
        }
      ]
    },
    {
      "cell_type": "markdown",
      "metadata": {
        "id": "HasUSD1pOaRY"
      },
      "source": [
        "финальный dataframe"
      ]
    },
    {
      "cell_type": "code",
      "metadata": {
        "id": "TIyflZz5spS0",
        "colab": {
          "base_uri": "https://localhost:8080/",
          "height": 701
        },
        "outputId": "a5a2f42b-6b7b-4ce2-b26c-9229e2ecbed9"
      },
      "source": [
        "# объединяем в общий и красивый датафрейм для дальнейшего анализа\n",
        "\n",
        "df = pd.merge(mm, cr, on='id', how='left')\n",
        "df = df[['id', 'title', 'runtime', 'year', 'decade',\n",
        "         'director', 'actors',\n",
        "         'countries_full', 'genres_full', \n",
        "         'budget', 'revenue', 'profitability', \n",
        "         'popularity', 'vote_average']]\n",
        "\n",
        "df.head(5)"
      ],
      "execution_count": null,
      "outputs": [
        {
          "output_type": "execute_result",
          "data": {
            "text/html": [
              "<div>\n",
              "<style scoped>\n",
              "    .dataframe tbody tr th:only-of-type {\n",
              "        vertical-align: middle;\n",
              "    }\n",
              "\n",
              "    .dataframe tbody tr th {\n",
              "        vertical-align: top;\n",
              "    }\n",
              "\n",
              "    .dataframe thead th {\n",
              "        text-align: right;\n",
              "    }\n",
              "</style>\n",
              "<table border=\"1\" class=\"dataframe\">\n",
              "  <thead>\n",
              "    <tr style=\"text-align: right;\">\n",
              "      <th></th>\n",
              "      <th>id</th>\n",
              "      <th>title</th>\n",
              "      <th>runtime</th>\n",
              "      <th>year</th>\n",
              "      <th>decade</th>\n",
              "      <th>director</th>\n",
              "      <th>actors</th>\n",
              "      <th>countries_full</th>\n",
              "      <th>genres_full</th>\n",
              "      <th>budget</th>\n",
              "      <th>revenue</th>\n",
              "      <th>profitability</th>\n",
              "      <th>popularity</th>\n",
              "      <th>vote_average</th>\n",
              "    </tr>\n",
              "  </thead>\n",
              "  <tbody>\n",
              "    <tr>\n",
              "      <th>0</th>\n",
              "      <td>862</td>\n",
              "      <td>Toy Story</td>\n",
              "      <td>81.0</td>\n",
              "      <td>1995</td>\n",
              "      <td>(1990, 2000]</td>\n",
              "      <td>John Lasseter</td>\n",
              "      <td>[Tom Hanks, Tim Allen, Don Rickles, Jim Varney...</td>\n",
              "      <td>[United States of America]</td>\n",
              "      <td>[Animation, Comedy, Family]</td>\n",
              "      <td>30.0</td>\n",
              "      <td>373.554033</td>\n",
              "      <td>12.45</td>\n",
              "      <td>21.95</td>\n",
              "      <td>7.7</td>\n",
              "    </tr>\n",
              "    <tr>\n",
              "      <th>1</th>\n",
              "      <td>8844</td>\n",
              "      <td>Jumanji</td>\n",
              "      <td>104.0</td>\n",
              "      <td>1995</td>\n",
              "      <td>(1990, 2000]</td>\n",
              "      <td>Joe Johnston</td>\n",
              "      <td>[Robin Williams, Jonathan Hyde, Kirsten Dunst,...</td>\n",
              "      <td>[United States of America]</td>\n",
              "      <td>[Adventure, Fantasy, Family]</td>\n",
              "      <td>65.0</td>\n",
              "      <td>262.797249</td>\n",
              "      <td>4.04</td>\n",
              "      <td>17.02</td>\n",
              "      <td>6.9</td>\n",
              "    </tr>\n",
              "    <tr>\n",
              "      <th>2</th>\n",
              "      <td>31357</td>\n",
              "      <td>Waiting to Exhale</td>\n",
              "      <td>127.0</td>\n",
              "      <td>1995</td>\n",
              "      <td>(1990, 2000]</td>\n",
              "      <td>Forest Whitaker</td>\n",
              "      <td>[Whitney Houston, Angela Bassett, Loretta Devi...</td>\n",
              "      <td>[United States of America]</td>\n",
              "      <td>[Comedy, Drama, Romance]</td>\n",
              "      <td>16.0</td>\n",
              "      <td>81.452156</td>\n",
              "      <td>5.09</td>\n",
              "      <td>3.86</td>\n",
              "      <td>6.1</td>\n",
              "    </tr>\n",
              "    <tr>\n",
              "      <th>3</th>\n",
              "      <td>949</td>\n",
              "      <td>Heat</td>\n",
              "      <td>170.0</td>\n",
              "      <td>1995</td>\n",
              "      <td>(1990, 2000]</td>\n",
              "      <td>Michael Mann</td>\n",
              "      <td>[Al Pacino, Robert De Niro, Val Kilmer, Jon Vo...</td>\n",
              "      <td>[United States of America]</td>\n",
              "      <td>[Action, Crime, Drama, Thriller]</td>\n",
              "      <td>60.0</td>\n",
              "      <td>187.436818</td>\n",
              "      <td>3.12</td>\n",
              "      <td>17.92</td>\n",
              "      <td>7.7</td>\n",
              "    </tr>\n",
              "    <tr>\n",
              "      <th>4</th>\n",
              "      <td>9091</td>\n",
              "      <td>Sudden Death</td>\n",
              "      <td>106.0</td>\n",
              "      <td>1995</td>\n",
              "      <td>(1990, 2000]</td>\n",
              "      <td>Peter Hyams</td>\n",
              "      <td>[Jean-Claude Van Damme, Powers Boothe, Dorian ...</td>\n",
              "      <td>[United States of America]</td>\n",
              "      <td>[Action, Adventure, Thriller]</td>\n",
              "      <td>35.0</td>\n",
              "      <td>64.350171</td>\n",
              "      <td>1.84</td>\n",
              "      <td>5.23</td>\n",
              "      <td>5.5</td>\n",
              "    </tr>\n",
              "  </tbody>\n",
              "</table>\n",
              "</div>"
            ],
            "text/plain": [
              "      id              title  runtime  ...  profitability popularity vote_average\n",
              "0    862          Toy Story     81.0  ...          12.45      21.95          7.7\n",
              "1   8844            Jumanji    104.0  ...           4.04      17.02          6.9\n",
              "2  31357  Waiting to Exhale    127.0  ...           5.09       3.86          6.1\n",
              "3    949               Heat    170.0  ...           3.12      17.92          7.7\n",
              "4   9091       Sudden Death    106.0  ...           1.84       5.23          5.5\n",
              "\n",
              "[5 rows x 14 columns]"
            ]
          },
          "metadata": {
            "tags": []
          },
          "execution_count": 11
        }
      ]
    },
    {
      "cell_type": "markdown",
      "metadata": {
        "id": "xLMqa6S2npiY"
      },
      "source": [
        "## Общий анализ кинорынка"
      ]
    },
    {
      "cell_type": "code",
      "metadata": {
        "id": "3nO5B5ySlYlA",
        "colab": {
          "base_uri": "https://localhost:8080/",
          "height": 731
        },
        "outputId": "96217ba2-08d5-4ecb-c518-f7933197098b"
      },
      "source": [
        "# после 90-х начался кинематографичекий бум\n",
        "# пик по количеству фильмов был в 2000-2010х (но статистика до 2017 года, поэтому нужно пересчитать в 2021 году)\n",
        "\n",
        "df_decade = df.pivot_table(\n",
        "    values = ['title'], \n",
        "    index = ['decade'],\n",
        "    aggfunc={'title': 'count'})\n",
        "\n",
        "df_decade.plot.pie(subplots=True, figsize=(12,12), autopct='%1.0f%%')\n",
        "\n",
        "plt.title('Количество фильмов по десятилетиям')\n",
        "plt.xlabel('Декада')\n",
        "plt.ylabel('Количество')"
      ],
      "execution_count": null,
      "outputs": [
        {
          "output_type": "execute_result",
          "data": {
            "text/plain": [
              "Text(0, 0.5, 'Количество')"
            ]
          },
          "metadata": {
            "tags": []
          },
          "execution_count": 12
        },
        {
          "output_type": "display_data",
          "data": {
            "image/png": "[encoded data removed]",
            "text/plain": [
              "<Figure size 864x864 with 1 Axes>"
            ]
          },
          "metadata": {
            "tags": []
          }
        }
      ]
    },
    {
      "cell_type": "code",
      "metadata": {
        "id": "ZFy5PlxdZKMT",
        "colab": {
          "base_uri": "https://localhost:8080/",
          "height": 591
        },
        "outputId": "88ac4441-8635-4061-f244-14d5c0535e03"
      },
      "source": [
        "# начиная с 80-х в фильмы стали вкладывать большой бюджет, что увеличило и выручку \n",
        "# но рентабельность с 80-х стала снижаться и стабилизировалась, несмотря на все возрастающие бюджеты и выручку\n",
        "\n",
        "df_revenue = df.pivot_table(\n",
        "    values = ['revenue', 'budget'], \n",
        "    index = ['year'],\n",
        "    aggfunc={'revenue': sum,'budget': sum})\n",
        "\n",
        "df_revenue['profitability'] = df_revenue['revenue'] / df_revenue['budget'] # посчитаем среднюю рентабельность за год\n",
        "\n",
        "df_revenue[['budget', 'revenue']].plot(figsize=(18,4))\n",
        "plt.title('Бюджет и Выручка')\n",
        "df_revenue[['profitability']].plot(figsize=(18,4))\n",
        "plt.title('Рентабельность')"
      ],
      "execution_count": null,
      "outputs": [
        {
          "output_type": "execute_result",
          "data": {
            "text/plain": [
              "Text(0.5, 1.0, 'Рентабельность')"
            ]
          },
          "metadata": {
            "tags": []
          },
          "execution_count": 13
        },
        {
          "output_type": "display_data",
          "data": {
            "image/png": "[encoded data removed]",
            "text/plain": [
              "<Figure size 1296x288 with 1 Axes>"
            ]
          },
          "metadata": {
            "tags": []
          }
        },
        {
          "output_type": "display_data",
          "data": {
            "image/png": "[encoded data removed]",
            "text/plain": [
              "<Figure size 1296x288 with 1 Axes>"
            ]
          },
          "metadata": {
            "tags": []
          }
        }
      ]
    },
    {
      "cell_type": "code",
      "metadata": {
        "id": "lWODswZb-5eA",
        "colab": {
          "base_uri": "https://localhost:8080/",
          "height": 531
        },
        "outputId": "c8c1c273-5992-4d73-be73-10d77d3e2fce"
      },
      "source": [
        "# в основном чем выше бюджет, тем выше выручка (но высокий бюджет не гарантирует большую выручку)\n",
        "\n",
        "df_1 = df[(df['revenue'] < 1500) & (df['budget'] < 300)] #уберем выбросы\n",
        "df_1.plot.scatter(x='budget', y='revenue', figsize=(8,8))\n",
        "plt.title('Соотношение бюджета и выручки')\n",
        "plt.xlabel('Бюджет')\n",
        "plt.ylabel('Выручка')"
      ],
      "execution_count": null,
      "outputs": [
        {
          "output_type": "execute_result",
          "data": {
            "text/plain": [
              "Text(0, 0.5, 'Выручка')"
            ]
          },
          "metadata": {
            "tags": []
          },
          "execution_count": 14
        },
        {
          "output_type": "display_data",
          "data": {
            "image/png": "[encoded data removed]",
            "text/plain": [
              "<Figure size 576x576 with 1 Axes>"
            ]
          },
          "metadata": {
            "tags": []
          }
        }
      ]
    },
    {
      "cell_type": "code",
      "metadata": {
        "id": "x1ga9Aq0_JgN",
        "colab": {
          "base_uri": "https://localhost:8080/",
          "height": 531
        },
        "outputId": "b0f3813c-439a-4d0c-d0a7-6617a2bbbd47"
      },
      "source": [
        "# высокая популярность фильма не гарантирует хорошую оценку так и наоборот\n",
        "\n",
        "df_2 = df[(df['popularity'] < 20) & (df['vote_average'] > 3)] #уберем выбросы\n",
        "df_2.plot.scatter(x='vote_average', y='popularity', figsize=(8, 8))\n",
        "\n",
        "plt.title('Соотношение рейтинга и популярности')\n",
        "plt.xlabel('Рейтинг')\n",
        "plt.ylabel('Популярность')"
      ],
      "execution_count": null,
      "outputs": [
        {
          "output_type": "execute_result",
          "data": {
            "text/plain": [
              "Text(0, 0.5, 'Популярность')"
            ]
          },
          "metadata": {
            "tags": []
          },
          "execution_count": 15
        },
        {
          "output_type": "display_data",
          "data": {
            "image/png": "[encoded data removed]",
            "text/plain": [
              "<Figure size 576x576 with 1 Axes>"
            ]
          },
          "metadata": {
            "tags": []
          }
        }
      ]
    },
    {
      "cell_type": "code",
      "metadata": {
        "id": "8pw-tiLmq-rt",
        "colab": {
          "base_uri": "https://localhost:8080/",
          "height": 432
        },
        "outputId": "68b7b767-decb-4c15-a8d6-fae8bf02788a"
      },
      "source": [
        "# в основном фильмы снимаются в жанрах: драма, комедия, триллер, экшн\n",
        "\n",
        "df_genres = df[['genres_full']] \n",
        "df_genres = pd.Series(np.concatenate(df_genres.genres_full)) # разобьем на отдельные значения, чтобы посчитать количество жанров\n",
        "df_genres = df_genres.groupby(df_genres).size().rename_axis('genres').reset_index(name='quantity').sort_values(by=['quantity'], ascending=False)[:15] # сгруппируем\n",
        "\n",
        "df_genres.plot.bar(x='genres', y='quantity', figsize=(20,5))\n",
        "\n",
        "plt.title('Популярные жанры')\n",
        "plt.xlabel('Страны')\n",
        "plt.ylabel('Количество фильмов')"
      ],
      "execution_count": null,
      "outputs": [
        {
          "output_type": "execute_result",
          "data": {
            "text/plain": [
              "Text(0, 0.5, 'Количество фильмов')"
            ]
          },
          "metadata": {
            "tags": []
          },
          "execution_count": 16
        },
        {
          "output_type": "display_data",
          "data": {
            "image/png": "[encoded data removed]",
            "text/plain": [
              "<Figure size 1440x360 with 1 Axes>"
            ]
          },
          "metadata": {
            "tags": []
          }
        }
      ]
    },
    {
      "cell_type": "code",
      "metadata": {
        "id": "a4HTXfoeuFft",
        "colab": {
          "base_uri": "https://localhost:8080/",
          "height": 482
        },
        "outputId": "db7ad377-f1f5-4d77-ce98-d767d9e03396"
      },
      "source": [
        "# в основном фильмы снимаются в странах: США (но РФ таки попала в топ-10)\n",
        "\n",
        "df_countries = df[['countries_full']] \n",
        "df_countries = pd.Series(np.concatenate(df_countries.countries_full)) # разобьем на отдельные значения, чтобы посчитать количество стран\n",
        "df_countries = df_countries.groupby(df_countries).size().rename_axis('countries').reset_index(name='quantity').sort_values(by=['quantity'], ascending=False)[:15] # сгруппируем\n",
        "\n",
        "df_countries.plot.bar(x='countries', y='quantity', figsize=(20,5))\n",
        "\n",
        "plt.title('Страны, где любят снимать кино')\n",
        "plt.xlabel('Страны')\n",
        "plt.ylabel('Количество фильмов')"
      ],
      "execution_count": null,
      "outputs": [
        {
          "output_type": "execute_result",
          "data": {
            "text/plain": [
              "Text(0, 0.5, 'Количество фильмов')"
            ]
          },
          "metadata": {
            "tags": []
          },
          "execution_count": 17
        },
        {
          "output_type": "display_data",
          "data": {
            "image/png": "[encoded data removed]",
            "text/plain": [
              "<Figure size 1440x360 with 1 Axes>"
            ]
          },
          "metadata": {
            "tags": []
          }
        }
      ]
    },
    {
      "cell_type": "code",
      "metadata": {
        "id": "B1PvTO86uYOa",
        "colab": {
          "base_uri": "https://localhost:8080/",
          "height": 861
        },
        "outputId": "8bdc5c6b-a7ea-4e9d-b87f-2751d6501077"
      },
      "source": [
        "# Спилберг тратит и зарабатывает больше всех!\n",
        "\n",
        "df_dir = df[['director', 'revenue','budget']]\n",
        "\n",
        "df_dir = df.pivot_table(\n",
        "    values = ['revenue', 'budget'], \n",
        "    index = ['director'],\n",
        "    aggfunc={'revenue': sum,'budget': sum}).reset_index()\n",
        "\n",
        "top_budget_dir = df_dir[['director','budget']].sort_values(by=['budget'], ascending=False)[:15]\n",
        "top_revenue_dir = df_dir[['director','revenue']].sort_values(by=['revenue'], ascending=False)[:15]\n",
        "\n",
        "top_budget_dir.plot.bar(x='director', y='budget', figsize=(20,5))\n",
        "plt.title('Режиссеры с максимальным бюджетом')\n",
        "top_revenue_dir.plot.bar(x='director', y='revenue', figsize=(20,5))\n",
        "plt.title('Режиссеры с максимальной выручкой')"
      ],
      "execution_count": null,
      "outputs": [
        {
          "output_type": "execute_result",
          "data": {
            "text/plain": [
              "Text(0.5, 1.0, 'Режиссеры с максимальной выручкой')"
            ]
          },
          "metadata": {
            "tags": []
          },
          "execution_count": 18
        },
        {
          "output_type": "display_data",
          "data": {
            "image/png": "[encoded data removed]",
            "text/plain": [
              "<Figure size 1440x360 with 1 Axes>"
            ]
          },
          "metadata": {
            "tags": []
          }
        },
        {
          "output_type": "display_data",
          "data": {
            "image/png": "[encoded data removed]",
            "text/plain": [
              "<Figure size 1440x360 with 1 Axes>"
            ]
          },
          "metadata": {
            "tags": []
          }
        }
      ]
    },
    {
      "cell_type": "code",
      "metadata": {
        "id": "iRs14xJauPzy",
        "colab": {
          "base_uri": "https://localhost:8080/",
          "height": 447
        },
        "outputId": "3cc4f2f2-4a67-47a5-9f76-35a72f6b3c52"
      },
      "source": [
        "# актеры, которые на сегодня снялись в наибольшем количестве фильмов: Сэмюэл Л. Джексон, Роберт Де Ниро, Брюс Уиллис\n",
        "\n",
        "df_actors = df[['actors']]\n",
        "df_actors = pd.Series(np.concatenate(df_actors.actors)) # разобьем на отдельные значения, чтобы посчитать количество актеров и сколько раз они встречаются\n",
        "df_actors = df_actors.groupby(df_actors).size().rename_axis('actors').reset_index(name='quantity').sort_values(by=['quantity'], ascending=False)[:20] # сгруппируем\n",
        "\n",
        "df_actors.plot.bar(x='actors', y='quantity', figsize=(20,5))\n",
        "\n",
        "plt.title('Популярные актеры')\n",
        "plt.xlabel('Актеры')\n",
        "plt.ylabel('Количество фильмов')"
      ],
      "execution_count": null,
      "outputs": [
        {
          "output_type": "execute_result",
          "data": {
            "text/plain": [
              "Text(0, 0.5, 'Количество фильмов')"
            ]
          },
          "metadata": {
            "tags": []
          },
          "execution_count": 19
        },
        {
          "output_type": "display_data",
          "data": {
            "image/png": "[encoded data removed]",
            "text/plain": [
              "<Figure size 1440x360 with 1 Axes>"
            ]
          },
          "metadata": {
            "tags": []
          }
        }
      ]
    },
    {
      "cell_type": "markdown",
      "metadata": {
        "id": "sDQpippaZmVb"
      },
      "source": [
        "## Кто обеспечит получение Оскара?"
      ]
    },
    {
      "cell_type": "markdown",
      "metadata": {
        "id": "H1oVF2hEEYcB"
      },
      "source": [
        "т.к. каждому фильму присущи несколько параметров (несколько жанров, много актеров, несколько режиссеров), то сделаем группы фильмов с наилучшими и наихудшими показателями, которые далее и будем анализировать\n"
      ]
    },
    {
      "cell_type": "code",
      "metadata": {
        "id": "z-6h0EWjDjP2",
        "colab": {
          "base_uri": "https://localhost:8080/",
          "height": 287
        },
        "outputId": "caa52251-acd6-4a35-adf7-ecb31ff1521c"
      },
      "source": [
        "# посмотрим средние показатели, чтобы понять, по каким критериям будем создавать группы лучших и худших\n",
        "df.describe()"
      ],
      "execution_count": null,
      "outputs": [
        {
          "output_type": "execute_result",
          "data": {
            "text/html": [
              "<div>\n",
              "<style scoped>\n",
              "    .dataframe tbody tr th:only-of-type {\n",
              "        vertical-align: middle;\n",
              "    }\n",
              "\n",
              "    .dataframe tbody tr th {\n",
              "        vertical-align: top;\n",
              "    }\n",
              "\n",
              "    .dataframe thead th {\n",
              "        text-align: right;\n",
              "    }\n",
              "</style>\n",
              "<table border=\"1\" class=\"dataframe\">\n",
              "  <thead>\n",
              "    <tr style=\"text-align: right;\">\n",
              "      <th></th>\n",
              "      <th>id</th>\n",
              "      <th>runtime</th>\n",
              "      <th>year</th>\n",
              "      <th>budget</th>\n",
              "      <th>revenue</th>\n",
              "      <th>profitability</th>\n",
              "      <th>popularity</th>\n",
              "      <th>vote_average</th>\n",
              "    </tr>\n",
              "  </thead>\n",
              "  <tbody>\n",
              "    <tr>\n",
              "      <th>count</th>\n",
              "      <td>5241.000000</td>\n",
              "      <td>5241.000000</td>\n",
              "      <td>5241.000000</td>\n",
              "      <td>5241.000000</td>\n",
              "      <td>5241.000000</td>\n",
              "      <td>5241.000000</td>\n",
              "      <td>5241.000000</td>\n",
              "      <td>5241.000000</td>\n",
              "    </tr>\n",
              "    <tr>\n",
              "      <th>mean</th>\n",
              "      <td>60286.184888</td>\n",
              "      <td>110.363289</td>\n",
              "      <td>1999.907270</td>\n",
              "      <td>31.909333</td>\n",
              "      <td>92.561436</td>\n",
              "      <td>4.691332</td>\n",
              "      <td>9.939998</td>\n",
              "      <td>6.278973</td>\n",
              "    </tr>\n",
              "    <tr>\n",
              "      <th>std</th>\n",
              "      <td>95693.975445</td>\n",
              "      <td>21.372569</td>\n",
              "      <td>15.648482</td>\n",
              "      <td>40.381830</td>\n",
              "      <td>167.707816</td>\n",
              "      <td>16.264637</td>\n",
              "      <td>13.949656</td>\n",
              "      <td>0.911203</td>\n",
              "    </tr>\n",
              "    <tr>\n",
              "      <th>min</th>\n",
              "      <td>5.000000</td>\n",
              "      <td>62.000000</td>\n",
              "      <td>1916.000000</td>\n",
              "      <td>0.103000</td>\n",
              "      <td>0.000057</td>\n",
              "      <td>0.000000</td>\n",
              "      <td>0.000000</td>\n",
              "      <td>0.000000</td>\n",
              "    </tr>\n",
              "    <tr>\n",
              "      <th>25%</th>\n",
              "      <td>8536.000000</td>\n",
              "      <td>96.000000</td>\n",
              "      <td>1994.000000</td>\n",
              "      <td>6.000000</td>\n",
              "      <td>8.000000</td>\n",
              "      <td>0.790000</td>\n",
              "      <td>5.660000</td>\n",
              "      <td>5.700000</td>\n",
              "    </tr>\n",
              "    <tr>\n",
              "      <th>50%</th>\n",
              "      <td>14047.000000</td>\n",
              "      <td>106.000000</td>\n",
              "      <td>2004.000000</td>\n",
              "      <td>18.000000</td>\n",
              "      <td>31.609243</td>\n",
              "      <td>2.040000</td>\n",
              "      <td>8.500000</td>\n",
              "      <td>6.300000</td>\n",
              "    </tr>\n",
              "    <tr>\n",
              "      <th>75%</th>\n",
              "      <td>59860.000000</td>\n",
              "      <td>120.000000</td>\n",
              "      <td>2011.000000</td>\n",
              "      <td>40.000000</td>\n",
              "      <td>101.758490</td>\n",
              "      <td>4.160000</td>\n",
              "      <td>11.820000</td>\n",
              "      <td>6.900000</td>\n",
              "    </tr>\n",
              "    <tr>\n",
              "      <th>max</th>\n",
              "      <td>443319.000000</td>\n",
              "      <td>338.000000</td>\n",
              "      <td>2017.000000</td>\n",
              "      <td>380.000000</td>\n",
              "      <td>2787.965087</td>\n",
              "      <td>653.850000</td>\n",
              "      <td>547.490000</td>\n",
              "      <td>9.100000</td>\n",
              "    </tr>\n",
              "  </tbody>\n",
              "</table>\n",
              "</div>"
            ],
            "text/plain": [
              "                  id      runtime  ...   popularity  vote_average\n",
              "count    5241.000000  5241.000000  ...  5241.000000   5241.000000\n",
              "mean    60286.184888   110.363289  ...     9.939998      6.278973\n",
              "std     95693.975445    21.372569  ...    13.949656      0.911203\n",
              "min         5.000000    62.000000  ...     0.000000      0.000000\n",
              "25%      8536.000000    96.000000  ...     5.660000      5.700000\n",
              "50%     14047.000000   106.000000  ...     8.500000      6.300000\n",
              "75%     59860.000000   120.000000  ...    11.820000      6.900000\n",
              "max    443319.000000   338.000000  ...   547.490000      9.100000\n",
              "\n",
              "[8 rows x 8 columns]"
            ]
          },
          "metadata": {
            "tags": []
          },
          "execution_count": 20
        }
      ]
    },
    {
      "cell_type": "code",
      "metadata": {
        "id": "LKHajlkPamuP",
        "colab": {
          "base_uri": "https://localhost:8080/",
          "height": 287
        },
        "outputId": "fe02d9c7-bb28-424d-d30b-cd31404d64a1"
      },
      "source": [
        "# сгенерим датафрейм фильмов с показателями успешности фильма (наиболее прибыльные, популярные, с высокой оценкой)\n",
        "df_oscar = df[(df['profitability'] > 3) & (df['popularity'] > 9) & (df['vote_average'] > 7)]\n",
        "df_oscar.describe()\n",
        "\n",
        "# в среднем на хороший фильм придется инвестировать - 41 млн., а средняя выручка - 264 млн."
      ],
      "execution_count": null,
      "outputs": [
        {
          "output_type": "execute_result",
          "data": {
            "text/html": [
              "<div>\n",
              "<style scoped>\n",
              "    .dataframe tbody tr th:only-of-type {\n",
              "        vertical-align: middle;\n",
              "    }\n",
              "\n",
              "    .dataframe tbody tr th {\n",
              "        vertical-align: top;\n",
              "    }\n",
              "\n",
              "    .dataframe thead th {\n",
              "        text-align: right;\n",
              "    }\n",
              "</style>\n",
              "<table border=\"1\" class=\"dataframe\">\n",
              "  <thead>\n",
              "    <tr style=\"text-align: right;\">\n",
              "      <th></th>\n",
              "      <th>id</th>\n",
              "      <th>runtime</th>\n",
              "      <th>year</th>\n",
              "      <th>budget</th>\n",
              "      <th>revenue</th>\n",
              "      <th>profitability</th>\n",
              "      <th>popularity</th>\n",
              "      <th>vote_average</th>\n",
              "    </tr>\n",
              "  </thead>\n",
              "  <tbody>\n",
              "    <tr>\n",
              "      <th>count</th>\n",
              "      <td>415.000000</td>\n",
              "      <td>415.000000</td>\n",
              "      <td>415.000000</td>\n",
              "      <td>415.000000</td>\n",
              "      <td>415.000000</td>\n",
              "      <td>415.000000</td>\n",
              "      <td>415.000000</td>\n",
              "      <td>415.000000</td>\n",
              "    </tr>\n",
              "    <tr>\n",
              "      <th>mean</th>\n",
              "      <td>54757.860241</td>\n",
              "      <td>123.975904</td>\n",
              "      <td>1995.036145</td>\n",
              "      <td>40.858004</td>\n",
              "      <td>264.303538</td>\n",
              "      <td>14.194602</td>\n",
              "      <td>21.390651</td>\n",
              "      <td>7.524819</td>\n",
              "    </tr>\n",
              "    <tr>\n",
              "      <th>std</th>\n",
              "      <td>101579.097147</td>\n",
              "      <td>25.877161</td>\n",
              "      <td>18.725867</td>\n",
              "      <td>55.909880</td>\n",
              "      <td>335.598334</td>\n",
              "      <td>38.900038</td>\n",
              "      <td>28.482704</td>\n",
              "      <td>0.330986</td>\n",
              "    </tr>\n",
              "    <tr>\n",
              "      <th>min</th>\n",
              "      <td>11.000000</td>\n",
              "      <td>76.000000</td>\n",
              "      <td>1934.000000</td>\n",
              "      <td>0.114000</td>\n",
              "      <td>1.423000</td>\n",
              "      <td>3.010000</td>\n",
              "      <td>9.020000</td>\n",
              "      <td>7.100000</td>\n",
              "    </tr>\n",
              "    <tr>\n",
              "      <th>25%</th>\n",
              "      <td>589.500000</td>\n",
              "      <td>106.000000</td>\n",
              "      <td>1984.000000</td>\n",
              "      <td>5.650000</td>\n",
              "      <td>53.372583</td>\n",
              "      <td>4.340000</td>\n",
              "      <td>11.620000</td>\n",
              "      <td>7.300000</td>\n",
              "    </tr>\n",
              "    <tr>\n",
              "      <th>50%</th>\n",
              "      <td>2062.000000</td>\n",
              "      <td>120.000000</td>\n",
              "      <td>2001.000000</td>\n",
              "      <td>17.000000</td>\n",
              "      <td>128.798265</td>\n",
              "      <td>6.290000</td>\n",
              "      <td>14.630000</td>\n",
              "      <td>7.500000</td>\n",
              "    </tr>\n",
              "    <tr>\n",
              "      <th>75%</th>\n",
              "      <td>44451.500000</td>\n",
              "      <td>136.000000</td>\n",
              "      <td>2010.000000</td>\n",
              "      <td>47.500000</td>\n",
              "      <td>351.577365</td>\n",
              "      <td>11.395000</td>\n",
              "      <td>19.925000</td>\n",
              "      <td>7.700000</td>\n",
              "    </tr>\n",
              "    <tr>\n",
              "      <th>max</th>\n",
              "      <td>419430.000000</td>\n",
              "      <td>238.000000</td>\n",
              "      <td>2017.000000</td>\n",
              "      <td>280.000000</td>\n",
              "      <td>2787.965087</td>\n",
              "      <td>653.850000</td>\n",
              "      <td>294.340000</td>\n",
              "      <td>9.100000</td>\n",
              "    </tr>\n",
              "  </tbody>\n",
              "</table>\n",
              "</div>"
            ],
            "text/plain": [
              "                  id     runtime  ...  popularity  vote_average\n",
              "count     415.000000  415.000000  ...  415.000000    415.000000\n",
              "mean    54757.860241  123.975904  ...   21.390651      7.524819\n",
              "std    101579.097147   25.877161  ...   28.482704      0.330986\n",
              "min        11.000000   76.000000  ...    9.020000      7.100000\n",
              "25%       589.500000  106.000000  ...   11.620000      7.300000\n",
              "50%      2062.000000  120.000000  ...   14.630000      7.500000\n",
              "75%     44451.500000  136.000000  ...   19.925000      7.700000\n",
              "max    419430.000000  238.000000  ...  294.340000      9.100000\n",
              "\n",
              "[8 rows x 8 columns]"
            ]
          },
          "metadata": {
            "tags": []
          },
          "execution_count": 21
        }
      ]
    },
    {
      "cell_type": "code",
      "metadata": {
        "id": "UJHfs6ZPNh6b",
        "colab": {
          "base_uri": "https://localhost:8080/",
          "height": 407
        },
        "outputId": "dba5d0d1-ac52-4b26-92d1-16d2e37ecc46"
      },
      "source": [
        "df_oscar.head(3)"
      ],
      "execution_count": null,
      "outputs": [
        {
          "output_type": "execute_result",
          "data": {
            "text/html": [
              "<div>\n",
              "<style scoped>\n",
              "    .dataframe tbody tr th:only-of-type {\n",
              "        vertical-align: middle;\n",
              "    }\n",
              "\n",
              "    .dataframe tbody tr th {\n",
              "        vertical-align: top;\n",
              "    }\n",
              "\n",
              "    .dataframe thead th {\n",
              "        text-align: right;\n",
              "    }\n",
              "</style>\n",
              "<table border=\"1\" class=\"dataframe\">\n",
              "  <thead>\n",
              "    <tr style=\"text-align: right;\">\n",
              "      <th></th>\n",
              "      <th>id</th>\n",
              "      <th>title</th>\n",
              "      <th>runtime</th>\n",
              "      <th>year</th>\n",
              "      <th>decade</th>\n",
              "      <th>director</th>\n",
              "      <th>actors</th>\n",
              "      <th>countries_full</th>\n",
              "      <th>genres_full</th>\n",
              "      <th>budget</th>\n",
              "      <th>revenue</th>\n",
              "      <th>profitability</th>\n",
              "      <th>popularity</th>\n",
              "      <th>vote_average</th>\n",
              "    </tr>\n",
              "  </thead>\n",
              "  <tbody>\n",
              "    <tr>\n",
              "      <th>0</th>\n",
              "      <td>862</td>\n",
              "      <td>Toy Story</td>\n",
              "      <td>81.0</td>\n",
              "      <td>1995</td>\n",
              "      <td>(1990, 2000]</td>\n",
              "      <td>John Lasseter</td>\n",
              "      <td>[Tom Hanks, Tim Allen, Don Rickles, Jim Varney...</td>\n",
              "      <td>[United States of America]</td>\n",
              "      <td>[Animation, Comedy, Family]</td>\n",
              "      <td>30.0</td>\n",
              "      <td>373.554033</td>\n",
              "      <td>12.45</td>\n",
              "      <td>21.95</td>\n",
              "      <td>7.7</td>\n",
              "    </tr>\n",
              "    <tr>\n",
              "      <th>3</th>\n",
              "      <td>949</td>\n",
              "      <td>Heat</td>\n",
              "      <td>170.0</td>\n",
              "      <td>1995</td>\n",
              "      <td>(1990, 2000]</td>\n",
              "      <td>Michael Mann</td>\n",
              "      <td>[Al Pacino, Robert De Niro, Val Kilmer, Jon Vo...</td>\n",
              "      <td>[United States of America]</td>\n",
              "      <td>[Action, Crime, Drama, Thriller]</td>\n",
              "      <td>60.0</td>\n",
              "      <td>187.436818</td>\n",
              "      <td>3.12</td>\n",
              "      <td>17.92</td>\n",
              "      <td>7.7</td>\n",
              "    </tr>\n",
              "    <tr>\n",
              "      <th>10</th>\n",
              "      <td>4584</td>\n",
              "      <td>Sense and Sensibility</td>\n",
              "      <td>136.0</td>\n",
              "      <td>1995</td>\n",
              "      <td>(1990, 2000]</td>\n",
              "      <td>Ang Lee</td>\n",
              "      <td>[Kate Winslet, Emma Thompson, Hugh Grant, Tom ...</td>\n",
              "      <td>[United Kingdom, United States of America]</td>\n",
              "      <td>[Drama, Romance]</td>\n",
              "      <td>16.5</td>\n",
              "      <td>135.000000</td>\n",
              "      <td>8.18</td>\n",
              "      <td>10.67</td>\n",
              "      <td>7.2</td>\n",
              "    </tr>\n",
              "  </tbody>\n",
              "</table>\n",
              "</div>"
            ],
            "text/plain": [
              "      id                  title  ...  popularity  vote_average\n",
              "0    862              Toy Story  ...       21.95           7.7\n",
              "3    949                   Heat  ...       17.92           7.7\n",
              "10  4584  Sense and Sensibility  ...       10.67           7.2\n",
              "\n",
              "[3 rows x 14 columns]"
            ]
          },
          "metadata": {
            "tags": []
          },
          "execution_count": 22
        }
      ]
    },
    {
      "cell_type": "code",
      "metadata": {
        "id": "wYmwaBTTam1P",
        "colab": {
          "base_uri": "https://localhost:8080/",
          "height": 437
        },
        "outputId": "94a583b7-c105-439e-9f11-bfe337ccc7d9"
      },
      "source": [
        "df_top_actors = df_oscar[['actors']].reset_index()\n",
        "\n",
        "df_top_actors = pd.Series(np.concatenate(df_top_actors.actors))\n",
        "df_top_actors = df_top_actors.groupby(df_top_actors).size().rename_axis('actors').reset_index(name='quantity').sort_values(by=['quantity'], ascending=False)[:13]\n",
        "\n",
        "df_top_actors"
      ],
      "execution_count": null,
      "outputs": [
        {
          "output_type": "execute_result",
          "data": {
            "text/html": [
              "<div>\n",
              "<style scoped>\n",
              "    .dataframe tbody tr th:only-of-type {\n",
              "        vertical-align: middle;\n",
              "    }\n",
              "\n",
              "    .dataframe tbody tr th {\n",
              "        vertical-align: top;\n",
              "    }\n",
              "\n",
              "    .dataframe thead th {\n",
              "        text-align: right;\n",
              "    }\n",
              "</style>\n",
              "<table border=\"1\" class=\"dataframe\">\n",
              "  <thead>\n",
              "    <tr style=\"text-align: right;\">\n",
              "      <th></th>\n",
              "      <th>actors</th>\n",
              "      <th>quantity</th>\n",
              "    </tr>\n",
              "  </thead>\n",
              "  <tbody>\n",
              "    <tr>\n",
              "      <th>11665</th>\n",
              "      <td>Samuel L. Jackson</td>\n",
              "      <td>14</td>\n",
              "    </tr>\n",
              "    <tr>\n",
              "      <th>12907</th>\n",
              "      <td>Tom Hanks</td>\n",
              "      <td>13</td>\n",
              "    </tr>\n",
              "    <tr>\n",
              "      <th>8807</th>\n",
              "      <td>Matt Damon</td>\n",
              "      <td>12</td>\n",
              "    </tr>\n",
              "    <tr>\n",
              "      <th>13455</th>\n",
              "      <td>Warwick Davis</td>\n",
              "      <td>12</td>\n",
              "    </tr>\n",
              "    <tr>\n",
              "      <th>1479</th>\n",
              "      <td>Brad Pitt</td>\n",
              "      <td>11</td>\n",
              "    </tr>\n",
              "    <tr>\n",
              "      <th>239</th>\n",
              "      <td>Alan Rickman</td>\n",
              "      <td>11</td>\n",
              "    </tr>\n",
              "    <tr>\n",
              "      <th>6659</th>\n",
              "      <td>John Ratzenberger</td>\n",
              "      <td>11</td>\n",
              "    </tr>\n",
              "    <tr>\n",
              "      <th>12188</th>\n",
              "      <td>Stan Lee</td>\n",
              "      <td>10</td>\n",
              "    </tr>\n",
              "    <tr>\n",
              "      <th>5632</th>\n",
              "      <td>James Earl Jones</td>\n",
              "      <td>9</td>\n",
              "    </tr>\n",
              "    <tr>\n",
              "      <th>4295</th>\n",
              "      <td>Frank Welker</td>\n",
              "      <td>9</td>\n",
              "    </tr>\n",
              "    <tr>\n",
              "      <th>10505</th>\n",
              "      <td>Philip Ettington</td>\n",
              "      <td>9</td>\n",
              "    </tr>\n",
              "    <tr>\n",
              "      <th>7938</th>\n",
              "      <td>Leonardo DiCaprio</td>\n",
              "      <td>9</td>\n",
              "    </tr>\n",
              "    <tr>\n",
              "      <th>8866</th>\n",
              "      <td>Matthew Lewis</td>\n",
              "      <td>9</td>\n",
              "    </tr>\n",
              "  </tbody>\n",
              "</table>\n",
              "</div>"
            ],
            "text/plain": [
              "                  actors  quantity\n",
              "11665  Samuel L. Jackson        14\n",
              "12907          Tom Hanks        13\n",
              "8807          Matt Damon        12\n",
              "13455      Warwick Davis        12\n",
              "1479           Brad Pitt        11\n",
              "239         Alan Rickman        11\n",
              "6659   John Ratzenberger        11\n",
              "12188           Stan Lee        10\n",
              "5632    James Earl Jones         9\n",
              "4295        Frank Welker         9\n",
              "10505   Philip Ettington         9\n",
              "7938   Leonardo DiCaprio         9\n",
              "8866       Matthew Lewis         9"
            ]
          },
          "metadata": {
            "tags": []
          },
          "execution_count": 23
        }
      ]
    },
    {
      "cell_type": "code",
      "metadata": {
        "id": "0d_Ma0-_am8J",
        "colab": {
          "base_uri": "https://localhost:8080/",
          "height": 347
        },
        "outputId": "1f78d19e-0da5-486e-f3a4-6ee3f3f3abd1"
      },
      "source": [
        "df_top_countries = df_oscar[['countries_full']].reset_index()\n",
        "df_top_countries = pd.Series(np.concatenate(df_top_countries.countries_full))\n",
        "df_top_countries = df_top_countries.groupby(df_top_countries).size().rename_axis('countries').reset_index(name='quantity').sort_values(by=['quantity'], ascending=False)[:10]\n",
        "\n",
        "df_top_countries"
      ],
      "execution_count": null,
      "outputs": [
        {
          "output_type": "execute_result",
          "data": {
            "text/html": [
              "<div>\n",
              "<style scoped>\n",
              "    .dataframe tbody tr th:only-of-type {\n",
              "        vertical-align: middle;\n",
              "    }\n",
              "\n",
              "    .dataframe tbody tr th {\n",
              "        vertical-align: top;\n",
              "    }\n",
              "\n",
              "    .dataframe thead th {\n",
              "        text-align: right;\n",
              "    }\n",
              "</style>\n",
              "<table border=\"1\" class=\"dataframe\">\n",
              "  <thead>\n",
              "    <tr style=\"text-align: right;\">\n",
              "      <th></th>\n",
              "      <th>countries</th>\n",
              "      <th>quantity</th>\n",
              "    </tr>\n",
              "  </thead>\n",
              "  <tbody>\n",
              "    <tr>\n",
              "      <th>34</th>\n",
              "      <td>United States of America</td>\n",
              "      <td>367</td>\n",
              "    </tr>\n",
              "    <tr>\n",
              "      <th>33</th>\n",
              "      <td>United Kingdom</td>\n",
              "      <td>74</td>\n",
              "    </tr>\n",
              "    <tr>\n",
              "      <th>11</th>\n",
              "      <td>Germany</td>\n",
              "      <td>28</td>\n",
              "    </tr>\n",
              "    <tr>\n",
              "      <th>10</th>\n",
              "      <td>France</td>\n",
              "      <td>19</td>\n",
              "    </tr>\n",
              "    <tr>\n",
              "      <th>5</th>\n",
              "      <td>Canada</td>\n",
              "      <td>13</td>\n",
              "    </tr>\n",
              "    <tr>\n",
              "      <th>19</th>\n",
              "      <td>Japan</td>\n",
              "      <td>11</td>\n",
              "    </tr>\n",
              "    <tr>\n",
              "      <th>18</th>\n",
              "      <td>Italy</td>\n",
              "      <td>11</td>\n",
              "    </tr>\n",
              "    <tr>\n",
              "      <th>29</th>\n",
              "      <td>Spain</td>\n",
              "      <td>8</td>\n",
              "    </tr>\n",
              "    <tr>\n",
              "      <th>23</th>\n",
              "      <td>New Zealand</td>\n",
              "      <td>8</td>\n",
              "    </tr>\n",
              "    <tr>\n",
              "      <th>15</th>\n",
              "      <td>India</td>\n",
              "      <td>8</td>\n",
              "    </tr>\n",
              "  </tbody>\n",
              "</table>\n",
              "</div>"
            ],
            "text/plain": [
              "                   countries  quantity\n",
              "34  United States of America       367\n",
              "33            United Kingdom        74\n",
              "11                   Germany        28\n",
              "10                    France        19\n",
              "5                     Canada        13\n",
              "19                     Japan        11\n",
              "18                     Italy        11\n",
              "29                     Spain         8\n",
              "23               New Zealand         8\n",
              "15                     India         8"
            ]
          },
          "metadata": {
            "tags": []
          },
          "execution_count": 24
        }
      ]
    },
    {
      "cell_type": "code",
      "metadata": {
        "id": "k9QJb63GSVE6",
        "colab": {
          "base_uri": "https://localhost:8080/",
          "height": 257
        },
        "outputId": "102e4b29-4c89-4e4e-85bb-d6f8bd3d8429"
      },
      "source": [
        "df_top_director = df_oscar[['director']].reset_index()\n",
        "df_top_director = pd.Series(np.concatenate(df_top_director.director, axis=None))\n",
        "df_top_director = df_top_director.groupby(df_top_director).size().rename_axis('director').reset_index(name='quantity').sort_values(by=['quantity'], ascending=False)[:7]\n",
        "\n",
        "df_top_director\n",
        "\n",
        "# если отсортировать по рентабельности, то в топе много режиссеров, которые уже померли :( поэтому возращаемся к методе по количеству, как наибольшей вероятности\n",
        "# df_top_director = df_oscar.pivot_table(\n",
        "#    values = ['revenue', 'budget'], \n",
        "#    index = ['director'],\n",
        "#    aggfunc={'revenue': sum,'budget': sum})\n",
        "# df_top_director['profitability'] = df_top_director['revenue'] / df_top_director['budget']\n",
        "# df_top_director.sort_values(by=['profitability'], ascending=False)[:15] "
      ],
      "execution_count": null,
      "outputs": [
        {
          "output_type": "execute_result",
          "data": {
            "text/html": [
              "<div>\n",
              "<style scoped>\n",
              "    .dataframe tbody tr th:only-of-type {\n",
              "        vertical-align: middle;\n",
              "    }\n",
              "\n",
              "    .dataframe tbody tr th {\n",
              "        vertical-align: top;\n",
              "    }\n",
              "\n",
              "    .dataframe thead th {\n",
              "        text-align: right;\n",
              "    }\n",
              "</style>\n",
              "<table border=\"1\" class=\"dataframe\">\n",
              "  <thead>\n",
              "    <tr style=\"text-align: right;\">\n",
              "      <th></th>\n",
              "      <th>director</th>\n",
              "      <th>quantity</th>\n",
              "    </tr>\n",
              "  </thead>\n",
              "  <tbody>\n",
              "    <tr>\n",
              "      <th>237</th>\n",
              "      <td>Steven Spielberg</td>\n",
              "      <td>13</td>\n",
              "    </tr>\n",
              "    <tr>\n",
              "      <th>193</th>\n",
              "      <td>Quentin Tarantino</td>\n",
              "      <td>8</td>\n",
              "    </tr>\n",
              "    <tr>\n",
              "      <th>8</th>\n",
              "      <td>Alfred Hitchcock</td>\n",
              "      <td>8</td>\n",
              "    </tr>\n",
              "    <tr>\n",
              "      <th>43</th>\n",
              "      <td>Clint Eastwood</td>\n",
              "      <td>6</td>\n",
              "    </tr>\n",
              "    <tr>\n",
              "      <th>213</th>\n",
              "      <td>Robert Zemeckis</td>\n",
              "      <td>6</td>\n",
              "    </tr>\n",
              "    <tr>\n",
              "      <th>42</th>\n",
              "      <td>Christopher Nolan</td>\n",
              "      <td>6</td>\n",
              "    </tr>\n",
              "    <tr>\n",
              "      <th>120</th>\n",
              "      <td>Joel Coen</td>\n",
              "      <td>5</td>\n",
              "    </tr>\n",
              "  </tbody>\n",
              "</table>\n",
              "</div>"
            ],
            "text/plain": [
              "              director  quantity\n",
              "237   Steven Spielberg        13\n",
              "193  Quentin Tarantino         8\n",
              "8     Alfred Hitchcock         8\n",
              "43      Clint Eastwood         6\n",
              "213    Robert Zemeckis         6\n",
              "42   Christopher Nolan         6\n",
              "120          Joel Coen         5"
            ]
          },
          "metadata": {
            "tags": []
          },
          "execution_count": 25
        }
      ]
    },
    {
      "cell_type": "code",
      "metadata": {
        "id": "oXBOQkYlZi9w",
        "colab": {
          "base_uri": "https://localhost:8080/",
          "height": 347
        },
        "outputId": "64e3890c-4191-4950-9191-bda9c512de0d"
      },
      "source": [
        "df_top_genres = df_oscar[['genres_full']].reset_index()\n",
        "df_top_genres = pd.Series(np.concatenate(df_top_genres.genres_full))\n",
        "df_top_genres = df_top_genres.groupby(df_top_genres).size().rename_axis('genres').reset_index(name='quantity').sort_values(by=['quantity'], ascending=False)[:10]\n",
        "\n",
        "df_top_genres"
      ],
      "execution_count": null,
      "outputs": [
        {
          "output_type": "execute_result",
          "data": {
            "text/html": [
              "<div>\n",
              "<style scoped>\n",
              "    .dataframe tbody tr th:only-of-type {\n",
              "        vertical-align: middle;\n",
              "    }\n",
              "\n",
              "    .dataframe tbody tr th {\n",
              "        vertical-align: top;\n",
              "    }\n",
              "\n",
              "    .dataframe thead th {\n",
              "        text-align: right;\n",
              "    }\n",
              "</style>\n",
              "<table border=\"1\" class=\"dataframe\">\n",
              "  <thead>\n",
              "    <tr style=\"text-align: right;\">\n",
              "      <th></th>\n",
              "      <th>genres</th>\n",
              "      <th>quantity</th>\n",
              "    </tr>\n",
              "  </thead>\n",
              "  <tbody>\n",
              "    <tr>\n",
              "      <th>6</th>\n",
              "      <td>Drama</td>\n",
              "      <td>232</td>\n",
              "    </tr>\n",
              "    <tr>\n",
              "      <th>15</th>\n",
              "      <td>Thriller</td>\n",
              "      <td>101</td>\n",
              "    </tr>\n",
              "    <tr>\n",
              "      <th>0</th>\n",
              "      <td>Action</td>\n",
              "      <td>98</td>\n",
              "    </tr>\n",
              "    <tr>\n",
              "      <th>1</th>\n",
              "      <td>Adventure</td>\n",
              "      <td>96</td>\n",
              "    </tr>\n",
              "    <tr>\n",
              "      <th>3</th>\n",
              "      <td>Comedy</td>\n",
              "      <td>90</td>\n",
              "    </tr>\n",
              "    <tr>\n",
              "      <th>4</th>\n",
              "      <td>Crime</td>\n",
              "      <td>75</td>\n",
              "    </tr>\n",
              "    <tr>\n",
              "      <th>13</th>\n",
              "      <td>Romance</td>\n",
              "      <td>63</td>\n",
              "    </tr>\n",
              "    <tr>\n",
              "      <th>14</th>\n",
              "      <td>Science Fiction</td>\n",
              "      <td>53</td>\n",
              "    </tr>\n",
              "    <tr>\n",
              "      <th>7</th>\n",
              "      <td>Family</td>\n",
              "      <td>49</td>\n",
              "    </tr>\n",
              "    <tr>\n",
              "      <th>8</th>\n",
              "      <td>Fantasy</td>\n",
              "      <td>44</td>\n",
              "    </tr>\n",
              "  </tbody>\n",
              "</table>\n",
              "</div>"
            ],
            "text/plain": [
              "             genres  quantity\n",
              "6             Drama       232\n",
              "15         Thriller       101\n",
              "0            Action        98\n",
              "1         Adventure        96\n",
              "3            Comedy        90\n",
              "4             Crime        75\n",
              "13          Romance        63\n",
              "14  Science Fiction        53\n",
              "7            Family        49\n",
              "8           Fantasy        44"
            ]
          },
          "metadata": {
            "tags": []
          },
          "execution_count": 26
        }
      ]
    },
    {
      "cell_type": "markdown",
      "metadata": {
        "id": "eMx8cTMpZtym"
      },
      "source": [
        "## Кто обеспечит получение Золотой Малины?"
      ]
    },
    {
      "cell_type": "code",
      "metadata": {
        "id": "VnzVfxwAaluO",
        "colab": {
          "base_uri": "https://localhost:8080/",
          "height": 287
        },
        "outputId": "efc4d9fe-abc4-484f-de50-e8da4784d040"
      },
      "source": [
        "# сгенерим датафрейм фильмов с показателями неуспешности фильма (убыточные (+ те, что еле окупились непопулярные, с низкой оценкой)\n",
        "df_razzie = df[(df['profitability'] < 1) & (df['popularity'] < 6) & (df['vote_average'] < 5.5)]\n",
        "df_razzie.describe()\n",
        "\n",
        "# в среднем для \"так себе фильма\" придется инвестировать - 21 млн., а средняя выручка - 12 млн."
      ],
      "execution_count": null,
      "outputs": [
        {
          "output_type": "execute_result",
          "data": {
            "text/html": [
              "<div>\n",
              "<style scoped>\n",
              "    .dataframe tbody tr th:only-of-type {\n",
              "        vertical-align: middle;\n",
              "    }\n",
              "\n",
              "    .dataframe tbody tr th {\n",
              "        vertical-align: top;\n",
              "    }\n",
              "\n",
              "    .dataframe thead th {\n",
              "        text-align: right;\n",
              "    }\n",
              "</style>\n",
              "<table border=\"1\" class=\"dataframe\">\n",
              "  <thead>\n",
              "    <tr style=\"text-align: right;\">\n",
              "      <th></th>\n",
              "      <th>id</th>\n",
              "      <th>runtime</th>\n",
              "      <th>year</th>\n",
              "      <th>budget</th>\n",
              "      <th>revenue</th>\n",
              "      <th>profitability</th>\n",
              "      <th>popularity</th>\n",
              "      <th>vote_average</th>\n",
              "    </tr>\n",
              "  </thead>\n",
              "  <tbody>\n",
              "    <tr>\n",
              "      <th>count</th>\n",
              "      <td>221.000000</td>\n",
              "      <td>221.000000</td>\n",
              "      <td>221.000000</td>\n",
              "      <td>221.000000</td>\n",
              "      <td>221.000000</td>\n",
              "      <td>221.000000</td>\n",
              "      <td>221.000000</td>\n",
              "      <td>221.000000</td>\n",
              "    </tr>\n",
              "    <tr>\n",
              "      <th>mean</th>\n",
              "      <td>61719.805430</td>\n",
              "      <td>101.642534</td>\n",
              "      <td>1999.977376</td>\n",
              "      <td>18.693267</td>\n",
              "      <td>7.007083</td>\n",
              "      <td>0.346787</td>\n",
              "      <td>2.814480</td>\n",
              "      <td>4.574208</td>\n",
              "    </tr>\n",
              "    <tr>\n",
              "      <th>std</th>\n",
              "      <td>75225.888079</td>\n",
              "      <td>14.795386</td>\n",
              "      <td>10.632473</td>\n",
              "      <td>20.055722</td>\n",
              "      <td>10.683546</td>\n",
              "      <td>0.290185</td>\n",
              "      <td>1.857579</td>\n",
              "      <td>0.954851</td>\n",
              "    </tr>\n",
              "    <tr>\n",
              "      <th>min</th>\n",
              "      <td>494.000000</td>\n",
              "      <td>74.000000</td>\n",
              "      <td>1954.000000</td>\n",
              "      <td>0.120000</td>\n",
              "      <td>0.000057</td>\n",
              "      <td>0.000000</td>\n",
              "      <td>0.030000</td>\n",
              "      <td>0.000000</td>\n",
              "    </tr>\n",
              "    <tr>\n",
              "      <th>25%</th>\n",
              "      <td>16784.000000</td>\n",
              "      <td>91.000000</td>\n",
              "      <td>1993.000000</td>\n",
              "      <td>5.000000</td>\n",
              "      <td>0.570000</td>\n",
              "      <td>0.080000</td>\n",
              "      <td>1.160000</td>\n",
              "      <td>4.300000</td>\n",
              "    </tr>\n",
              "    <tr>\n",
              "      <th>50%</th>\n",
              "      <td>36698.000000</td>\n",
              "      <td>99.000000</td>\n",
              "      <td>2001.000000</td>\n",
              "      <td>13.500000</td>\n",
              "      <td>2.297493</td>\n",
              "      <td>0.270000</td>\n",
              "      <td>2.480000</td>\n",
              "      <td>4.800000</td>\n",
              "    </tr>\n",
              "    <tr>\n",
              "      <th>75%</th>\n",
              "      <td>67772.000000</td>\n",
              "      <td>110.000000</td>\n",
              "      <td>2009.000000</td>\n",
              "      <td>25.000000</td>\n",
              "      <td>10.719357</td>\n",
              "      <td>0.580000</td>\n",
              "      <td>4.660000</td>\n",
              "      <td>5.200000</td>\n",
              "    </tr>\n",
              "    <tr>\n",
              "      <th>max</th>\n",
              "      <td>347979.000000</td>\n",
              "      <td>171.000000</td>\n",
              "      <td>2016.000000</td>\n",
              "      <td>120.000000</td>\n",
              "      <td>77.741732</td>\n",
              "      <td>0.990000</td>\n",
              "      <td>5.980000</td>\n",
              "      <td>5.400000</td>\n",
              "    </tr>\n",
              "  </tbody>\n",
              "</table>\n",
              "</div>"
            ],
            "text/plain": [
              "                  id     runtime  ...  popularity  vote_average\n",
              "count     221.000000  221.000000  ...  221.000000    221.000000\n",
              "mean    61719.805430  101.642534  ...    2.814480      4.574208\n",
              "std     75225.888079   14.795386  ...    1.857579      0.954851\n",
              "min       494.000000   74.000000  ...    0.030000      0.000000\n",
              "25%     16784.000000   91.000000  ...    1.160000      4.300000\n",
              "50%     36698.000000   99.000000  ...    2.480000      4.800000\n",
              "75%     67772.000000  110.000000  ...    4.660000      5.200000\n",
              "max    347979.000000  171.000000  ...    5.980000      5.400000\n",
              "\n",
              "[8 rows x 8 columns]"
            ]
          },
          "metadata": {
            "tags": []
          },
          "execution_count": 27
        }
      ]
    },
    {
      "cell_type": "code",
      "metadata": {
        "id": "T718WNGNamC0",
        "colab": {
          "base_uri": "https://localhost:8080/",
          "height": 437
        },
        "outputId": "2bb50ad9-c5af-4b8a-cd19-e8fff6013e2f"
      },
      "source": [
        "df_bottom_actors = df_razzie[['actors']].reset_index()\n",
        "\n",
        "df_bottom_actors = pd.Series(np.concatenate(df_bottom_actors.actors))\n",
        "df_bottom_actors = df_bottom_actors.groupby(df_bottom_actors).size().rename_axis('actors').reset_index(name='quantity').sort_values(by=['quantity'], ascending=False)[:13]\n",
        "\n",
        "df_bottom_actors"
      ],
      "execution_count": null,
      "outputs": [
        {
          "output_type": "execute_result",
          "data": {
            "text/html": [
              "<div>\n",
              "<style scoped>\n",
              "    .dataframe tbody tr th:only-of-type {\n",
              "        vertical-align: middle;\n",
              "    }\n",
              "\n",
              "    .dataframe tbody tr th {\n",
              "        vertical-align: top;\n",
              "    }\n",
              "\n",
              "    .dataframe thead th {\n",
              "        text-align: right;\n",
              "    }\n",
              "</style>\n",
              "<table border=\"1\" class=\"dataframe\">\n",
              "  <thead>\n",
              "    <tr style=\"text-align: right;\">\n",
              "      <th></th>\n",
              "      <th>actors</th>\n",
              "      <th>quantity</th>\n",
              "    </tr>\n",
              "  </thead>\n",
              "  <tbody>\n",
              "    <tr>\n",
              "      <th>1620</th>\n",
              "      <td>Julianne Moore</td>\n",
              "      <td>5</td>\n",
              "    </tr>\n",
              "    <tr>\n",
              "      <th>3170</th>\n",
              "      <td>Yuriy Kutsenko</td>\n",
              "      <td>4</td>\n",
              "    </tr>\n",
              "    <tr>\n",
              "      <th>1469</th>\n",
              "      <td>Joe Pantoliano</td>\n",
              "      <td>4</td>\n",
              "    </tr>\n",
              "    <tr>\n",
              "      <th>1265</th>\n",
              "      <td>Jaime Pressly</td>\n",
              "      <td>3</td>\n",
              "    </tr>\n",
              "    <tr>\n",
              "      <th>2910</th>\n",
              "      <td>Sylvester Stallone</td>\n",
              "      <td>3</td>\n",
              "    </tr>\n",
              "    <tr>\n",
              "      <th>1028</th>\n",
              "      <td>Fyodor Bondarchuk</td>\n",
              "      <td>3</td>\n",
              "    </tr>\n",
              "    <tr>\n",
              "      <th>1679</th>\n",
              "      <td>Katharine Towne</td>\n",
              "      <td>3</td>\n",
              "    </tr>\n",
              "    <tr>\n",
              "      <th>1681</th>\n",
              "      <td>Kathleen Freeman</td>\n",
              "      <td>3</td>\n",
              "    </tr>\n",
              "    <tr>\n",
              "      <th>2096</th>\n",
              "      <td>Maury Chaykin</td>\n",
              "      <td>3</td>\n",
              "    </tr>\n",
              "    <tr>\n",
              "      <th>563</th>\n",
              "      <td>Christopher McDonald</td>\n",
              "      <td>3</td>\n",
              "    </tr>\n",
              "    <tr>\n",
              "      <th>661</th>\n",
              "      <td>Dan Hedaya</td>\n",
              "      <td>3</td>\n",
              "    </tr>\n",
              "    <tr>\n",
              "      <th>2836</th>\n",
              "      <td>Stefania Rocca</td>\n",
              "      <td>3</td>\n",
              "    </tr>\n",
              "    <tr>\n",
              "      <th>2666</th>\n",
              "      <td>Ryan O'Neal</td>\n",
              "      <td>3</td>\n",
              "    </tr>\n",
              "  </tbody>\n",
              "</table>\n",
              "</div>"
            ],
            "text/plain": [
              "                    actors  quantity\n",
              "1620        Julianne Moore         5\n",
              "3170        Yuriy Kutsenko         4\n",
              "1469        Joe Pantoliano         4\n",
              "1265         Jaime Pressly         3\n",
              "2910    Sylvester Stallone         3\n",
              "1028     Fyodor Bondarchuk         3\n",
              "1679       Katharine Towne         3\n",
              "1681      Kathleen Freeman         3\n",
              "2096         Maury Chaykin         3\n",
              "563   Christopher McDonald         3\n",
              "661             Dan Hedaya         3\n",
              "2836        Stefania Rocca         3\n",
              "2666           Ryan O'Neal         3"
            ]
          },
          "metadata": {
            "tags": []
          },
          "execution_count": 28
        }
      ]
    },
    {
      "cell_type": "code",
      "metadata": {
        "id": "6_sJ_2jPamKI",
        "colab": {
          "base_uri": "https://localhost:8080/",
          "height": 347
        },
        "outputId": "120453ea-b1d2-44ca-a2e1-6aa108ba91d6"
      },
      "source": [
        "df_bottom_countries = df_razzie[['countries_full']].reset_index()\n",
        "df_bottom_countries = pd.Series(np.concatenate(df_bottom_countries.countries_full))\n",
        "df_bottom_countries = df_bottom_countries.groupby(df_bottom_countries).size().rename_axis('countries').reset_index(name='quantity').sort_values(by=['quantity'], ascending=False)[:10]\n",
        "\n",
        "df_bottom_countries"
      ],
      "execution_count": null,
      "outputs": [
        {
          "output_type": "execute_result",
          "data": {
            "text/html": [
              "<div>\n",
              "<style scoped>\n",
              "    .dataframe tbody tr th:only-of-type {\n",
              "        vertical-align: middle;\n",
              "    }\n",
              "\n",
              "    .dataframe tbody tr th {\n",
              "        vertical-align: top;\n",
              "    }\n",
              "\n",
              "    .dataframe thead th {\n",
              "        text-align: right;\n",
              "    }\n",
              "</style>\n",
              "<table border=\"1\" class=\"dataframe\">\n",
              "  <thead>\n",
              "    <tr style=\"text-align: right;\">\n",
              "      <th></th>\n",
              "      <th>countries</th>\n",
              "      <th>quantity</th>\n",
              "    </tr>\n",
              "  </thead>\n",
              "  <tbody>\n",
              "    <tr>\n",
              "      <th>28</th>\n",
              "      <td>United States of America</td>\n",
              "      <td>166</td>\n",
              "    </tr>\n",
              "    <tr>\n",
              "      <th>27</th>\n",
              "      <td>United Kingdom</td>\n",
              "      <td>16</td>\n",
              "    </tr>\n",
              "    <tr>\n",
              "      <th>8</th>\n",
              "      <td>Germany</td>\n",
              "      <td>13</td>\n",
              "    </tr>\n",
              "    <tr>\n",
              "      <th>21</th>\n",
              "      <td>Russia</td>\n",
              "      <td>13</td>\n",
              "    </tr>\n",
              "    <tr>\n",
              "      <th>3</th>\n",
              "      <td>Canada</td>\n",
              "      <td>7</td>\n",
              "    </tr>\n",
              "    <tr>\n",
              "      <th>0</th>\n",
              "      <td>Australia</td>\n",
              "      <td>6</td>\n",
              "    </tr>\n",
              "    <tr>\n",
              "      <th>14</th>\n",
              "      <td>Italy</td>\n",
              "      <td>6</td>\n",
              "    </tr>\n",
              "    <tr>\n",
              "      <th>12</th>\n",
              "      <td>India</td>\n",
              "      <td>5</td>\n",
              "    </tr>\n",
              "    <tr>\n",
              "      <th>7</th>\n",
              "      <td>France</td>\n",
              "      <td>5</td>\n",
              "    </tr>\n",
              "    <tr>\n",
              "      <th>2</th>\n",
              "      <td>Belgium</td>\n",
              "      <td>3</td>\n",
              "    </tr>\n",
              "  </tbody>\n",
              "</table>\n",
              "</div>"
            ],
            "text/plain": [
              "                   countries  quantity\n",
              "28  United States of America       166\n",
              "27            United Kingdom        16\n",
              "8                    Germany        13\n",
              "21                    Russia        13\n",
              "3                     Canada         7\n",
              "0                  Australia         6\n",
              "14                     Italy         6\n",
              "12                     India         5\n",
              "7                     France         5\n",
              "2                    Belgium         3"
            ]
          },
          "metadata": {
            "tags": []
          },
          "execution_count": 29
        }
      ]
    },
    {
      "cell_type": "code",
      "metadata": {
        "id": "uVtKGvm8fD0L",
        "colab": {
          "base_uri": "https://localhost:8080/",
          "height": 257
        },
        "outputId": "bf72ccf1-1734-48fa-f552-9ce8f884835c"
      },
      "source": [
        "df_bottom_director = df_razzie[['director']].reset_index()\n",
        "df_bottom_director = pd.Series(np.concatenate(df_bottom_director.director, axis=None))\n",
        "df_bottom_director = df_bottom_director.groupby(df_bottom_director).size().rename_axis('director').reset_index(name='quantity').sort_values(by=['quantity'], ascending=False)[:7]\n",
        "\n",
        "df_bottom_director"
      ],
      "execution_count": null,
      "outputs": [
        {
          "output_type": "execute_result",
          "data": {
            "text/html": [
              "<div>\n",
              "<style scoped>\n",
              "    .dataframe tbody tr th:only-of-type {\n",
              "        vertical-align: middle;\n",
              "    }\n",
              "\n",
              "    .dataframe tbody tr th {\n",
              "        vertical-align: top;\n",
              "    }\n",
              "\n",
              "    .dataframe thead th {\n",
              "        text-align: right;\n",
              "    }\n",
              "</style>\n",
              "<table border=\"1\" class=\"dataframe\">\n",
              "  <thead>\n",
              "    <tr style=\"text-align: right;\">\n",
              "      <th></th>\n",
              "      <th>director</th>\n",
              "      <th>quantity</th>\n",
              "    </tr>\n",
              "  </thead>\n",
              "  <tbody>\n",
              "    <tr>\n",
              "      <th>60</th>\n",
              "      <td>Gary Goldman</td>\n",
              "      <td>3</td>\n",
              "    </tr>\n",
              "    <tr>\n",
              "      <th>97</th>\n",
              "      <td>John Guillermin</td>\n",
              "      <td>3</td>\n",
              "    </tr>\n",
              "    <tr>\n",
              "      <th>207</th>\n",
              "      <td>nan</td>\n",
              "      <td>2</td>\n",
              "    </tr>\n",
              "    <tr>\n",
              "      <th>99</th>\n",
              "      <td>John Schlesinger</td>\n",
              "      <td>2</td>\n",
              "    </tr>\n",
              "    <tr>\n",
              "      <th>45</th>\n",
              "      <td>David Gordon Green</td>\n",
              "      <td>2</td>\n",
              "    </tr>\n",
              "    <tr>\n",
              "      <th>85</th>\n",
              "      <td>James Toback</td>\n",
              "      <td>2</td>\n",
              "    </tr>\n",
              "    <tr>\n",
              "      <th>24</th>\n",
              "      <td>Blake Edwards</td>\n",
              "      <td>2</td>\n",
              "    </tr>\n",
              "  </tbody>\n",
              "</table>\n",
              "</div>"
            ],
            "text/plain": [
              "               director  quantity\n",
              "60         Gary Goldman         3\n",
              "97      John Guillermin         3\n",
              "207                 nan         2\n",
              "99     John Schlesinger         2\n",
              "45   David Gordon Green         2\n",
              "85         James Toback         2\n",
              "24        Blake Edwards         2"
            ]
          },
          "metadata": {
            "tags": []
          },
          "execution_count": 30
        }
      ]
    },
    {
      "cell_type": "code",
      "metadata": {
        "id": "m_UBTQHHfD_j",
        "colab": {
          "base_uri": "https://localhost:8080/",
          "height": 347
        },
        "outputId": "5781006c-a8a2-40cb-81bb-148ddcbec433"
      },
      "source": [
        "df_bottom_genres = df_razzie[['genres_full']].reset_index()\n",
        "df_bottom_genres = pd.Series(np.concatenate(df_bottom_genres.genres_full))\n",
        "df_bottom_genres = df_bottom_genres.groupby(df_bottom_genres).size().rename_axis('genres').reset_index(name='quantity').sort_values(by=['quantity'], ascending=False)[:10]\n",
        "\n",
        "df_bottom_genres"
      ],
      "execution_count": null,
      "outputs": [
        {
          "output_type": "execute_result",
          "data": {
            "text/html": [
              "<div>\n",
              "<style scoped>\n",
              "    .dataframe tbody tr th:only-of-type {\n",
              "        vertical-align: middle;\n",
              "    }\n",
              "\n",
              "    .dataframe tbody tr th {\n",
              "        vertical-align: top;\n",
              "    }\n",
              "\n",
              "    .dataframe thead th {\n",
              "        text-align: right;\n",
              "    }\n",
              "</style>\n",
              "<table border=\"1\" class=\"dataframe\">\n",
              "  <thead>\n",
              "    <tr style=\"text-align: right;\">\n",
              "      <th></th>\n",
              "      <th>genres</th>\n",
              "      <th>quantity</th>\n",
              "    </tr>\n",
              "  </thead>\n",
              "  <tbody>\n",
              "    <tr>\n",
              "      <th>6</th>\n",
              "      <td>Drama</td>\n",
              "      <td>99</td>\n",
              "    </tr>\n",
              "    <tr>\n",
              "      <th>3</th>\n",
              "      <td>Comedy</td>\n",
              "      <td>96</td>\n",
              "    </tr>\n",
              "    <tr>\n",
              "      <th>16</th>\n",
              "      <td>Thriller</td>\n",
              "      <td>60</td>\n",
              "    </tr>\n",
              "    <tr>\n",
              "      <th>0</th>\n",
              "      <td>Action</td>\n",
              "      <td>59</td>\n",
              "    </tr>\n",
              "    <tr>\n",
              "      <th>14</th>\n",
              "      <td>Romance</td>\n",
              "      <td>46</td>\n",
              "    </tr>\n",
              "    <tr>\n",
              "      <th>1</th>\n",
              "      <td>Adventure</td>\n",
              "      <td>31</td>\n",
              "    </tr>\n",
              "    <tr>\n",
              "      <th>11</th>\n",
              "      <td>Horror</td>\n",
              "      <td>27</td>\n",
              "    </tr>\n",
              "    <tr>\n",
              "      <th>15</th>\n",
              "      <td>Science Fiction</td>\n",
              "      <td>26</td>\n",
              "    </tr>\n",
              "    <tr>\n",
              "      <th>4</th>\n",
              "      <td>Crime</td>\n",
              "      <td>24</td>\n",
              "    </tr>\n",
              "    <tr>\n",
              "      <th>7</th>\n",
              "      <td>Family</td>\n",
              "      <td>23</td>\n",
              "    </tr>\n",
              "  </tbody>\n",
              "</table>\n",
              "</div>"
            ],
            "text/plain": [
              "             genres  quantity\n",
              "6             Drama        99\n",
              "3            Comedy        96\n",
              "16         Thriller        60\n",
              "0            Action        59\n",
              "14          Romance        46\n",
              "1         Adventure        31\n",
              "11           Horror        27\n",
              "15  Science Fiction        26\n",
              "4             Crime        24\n",
              "7            Family        23"
            ]
          },
          "metadata": {
            "tags": []
          },
          "execution_count": 31
        }
      ]
    },
    {
      "cell_type": "markdown",
      "metadata": {
        "id": "rn8oi0hIf6rG"
      },
      "source": [
        "## ИТОГО"
      ]
    },
    {
      "cell_type": "markdown",
      "metadata": {
        "id": "MSRRdP2lTrni"
      },
      "source": [
        "в результатах стран и жанров в топ лучших и топ худших есть пересечения \n",
        "\n",
        "поэтому, для надежности, уберем эти пересечения"
      ]
    },
    {
      "cell_type": "code",
      "metadata": {
        "id": "0kfm-TYtOfgZ",
        "colab": {
          "base_uri": "https://localhost:8080/",
          "height": 52
        },
        "outputId": "631067d2-13de-4fda-86cb-fd05884af894"
      },
      "source": [
        "a = set(df_top_genres.genres)\n",
        "b = set(df_bottom_genres.genres)\n",
        "\n",
        "print(f'Если фильм снят в жанре {a - b} то, скорее всего, он будет хорош.')\n",
        "print(f'Если фильм снят в жанре {b - a} то, скорее всего, он будет не очень.')"
      ],
      "execution_count": null,
      "outputs": [
        {
          "output_type": "stream",
          "text": [
            "Если фильм снят в жанре {'Fantasy'} то, скорее всего, он будет хорош.\n",
            "Если фильм снят в жанре {'Horror'} то, скорее всего, он будет не очень.\n"
          ],
          "name": "stdout"
        }
      ]
    },
    {
      "cell_type": "code",
      "metadata": {
        "id": "jN1_bcuVP_tP",
        "colab": {
          "base_uri": "https://localhost:8080/",
          "height": 72
        },
        "outputId": "83ce4568-fd36-415a-977f-135e9a287b40"
      },
      "source": [
        "c = set(df_top_actors.actors)\n",
        "d = set(df_bottom_actors.actors)\n",
        "\n",
        "print(f'Если в фильме снимаются {c - d} то, скорее всего, он будет хорош.')\n",
        "print(f'Если в фильме снимаются {d - c} то, скорее всего, он будет не очень.')"
      ],
      "execution_count": null,
      "outputs": [
        {
          "output_type": "stream",
          "text": [
            "Если в фильме снимаются {'James Earl Jones', 'Tom Hanks', 'Matt Damon', 'Warwick Davis', 'Matthew Lewis', 'Alan Rickman', 'Leonardo DiCaprio', 'Philip Ettington', 'Stan Lee', 'Brad Pitt', 'Samuel L. Jackson', 'John Ratzenberger', 'Frank Welker'} то, скорее всего, он будет хорош.\n",
            "Если в фильме снимаются {'Katharine Towne', 'Dan Hedaya', 'Yuriy Kutsenko', 'Jaime Pressly', 'Joe Pantoliano', 'Fyodor Bondarchuk', 'Maury Chaykin', \"Ryan O'Neal\", 'Stefania Rocca', 'Kathleen Freeman', 'Julianne Moore', 'Christopher McDonald', 'Sylvester Stallone'} то, скорее всего, он будет не очень.\n"
          ],
          "name": "stdout"
        }
      ]
    },
    {
      "cell_type": "code",
      "metadata": {
        "id": "CQwJaHgwQcYT",
        "colab": {
          "base_uri": "https://localhost:8080/",
          "height": 52
        },
        "outputId": "a8c80ed2-2488-4f1a-f9cb-6c63bfd4c0a0"
      },
      "source": [
        "e = set(df_top_countries.countries)\n",
        "f = set(df_bottom_countries.countries)\n",
        "\n",
        "print(f'Если фильм снят в {e - f} то, скорее всего, он будет хорош.') \n",
        "print(f'Если фильм снят в {f - e} то, скорее всего, он будет не очень.') "
      ],
      "execution_count": null,
      "outputs": [
        {
          "output_type": "stream",
          "text": [
            "Если фильм снят в {'Spain', 'Japan', 'New Zealand'} то, скорее всего, он будет хорош.\n",
            "Если фильм снят в {'Russia', 'Australia', 'Belgium'} то, скорее всего, он будет не очень.\n"
          ],
          "name": "stdout"
        }
      ]
    },
    {
      "cell_type": "code",
      "metadata": {
        "id": "kDvBHly7SJYj",
        "colab": {
          "base_uri": "https://localhost:8080/",
          "height": 72
        },
        "outputId": "50e9f69a-385b-4782-cc84-f4c2e4b1b899"
      },
      "source": [
        "g = set(df_top_director.director)\n",
        "h = set(df_bottom_director.director)\n",
        "\n",
        "print(f'Если фильм снял {g - h} то, скорее всего, он будет хорош.') \n",
        "print(f'Если фильм снял {h - g} то, скорее всего, он будет не очень.')"
      ],
      "execution_count": null,
      "outputs": [
        {
          "output_type": "stream",
          "text": [
            "Если фильм снял {'Alfred Hitchcock', 'Christopher Nolan', 'Clint Eastwood', 'Quentin Tarantino', 'Robert Zemeckis', 'Steven Spielberg', 'Joel Coen'} то, скорее всего, он будет хорош.\n",
            "Если фильм снял {'Gary Goldman', 'Blake Edwards', 'James Toback', 'nan', 'John Guillermin', 'David Gordon Green', 'John Schlesinger'} то, скорее всего, он будет не очень.\n"
          ],
          "name": "stdout"
        }
      ]
    },
    {
      "cell_type": "markdown",
      "metadata": {
        "id": "86NA5IgKsKMs"
      },
      "source": [
        "получается, что: \n",
        "- успех фильма мало зависит от жанра или страны производства\n",
        "- успех фильма больше зависит от режиссера и актеров\n",
        "\n",
        "\n",
        "p.s. если Гари Голдман снимет в России фильм ужасов в главной роли с Гошей Куценко - случится страшное!"
      ]
    }
  ]
}